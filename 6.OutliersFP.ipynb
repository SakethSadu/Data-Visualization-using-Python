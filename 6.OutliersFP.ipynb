{
 "cells": [
  {
   "cell_type": "markdown",
   "id": "92942058",
   "metadata": {},
   "source": [
    "# Bank Loan Approval Criteria Analysis - By team Outliers"
   ]
  },
  {
   "cell_type": "markdown",
   "id": "2e550a7a",
   "metadata": {},
   "source": [
    "**The dataset has been referred from Kaggle: https://www.kaggle.com/datasets/qusaybtoush1990/banks-loan .\n",
    "The dataset is enormous with 148647 rows x 30 columns & consists of multiple deterministic factors like borrower's income, gender, loan purpose etc.The dataset is subject to strong multicollinearity & empty values.It consists of columns with different datatypes like float, integer, categorical, etc. The dataset is from 2019 and consists of approval status as well.**\n",
    "\n",
    "**We know that banks have a certain set of factors to consider before approving a loan application. The 4 C's of the loan approval process are: Capacity, Capital, Collateral, Credit.\n",
    "Our aim is to analyse how these 4 C's affect the loan amount approved.**\n",
    "\n",
    "**The objectives to analyse the dataset are as follows:**\n",
    "1. Analyse and Understand the dataset.\n",
    "2. Fill empty values and remove unnecessary columns.\n",
    "3. Find out factors based on which bank approves higher value loans.\n",
    "4. Find out possible improvements in the dataset. "
   ]
  },
  {
   "cell_type": "code",
   "execution_count": 56,
   "id": "6a8a3390",
   "metadata": {},
   "outputs": [],
   "source": [
    "'''importing necessary python libraries '''\n",
    "import pandas as pd\n",
    "import numpy as np\n",
    "import matplotlib.pyplot as plt\n",
    "import seaborn as sns\n",
    "import csv\n",
    "import os\n",
    "from sklearn. impute import KNNImputer\n",
    "%matplotlib inline"
   ]
  },
  {
   "cell_type": "code",
   "execution_count": 3,
   "id": "90ed74fb",
   "metadata": {},
   "outputs": [
    {
     "name": "stdout",
     "output_type": "stream",
     "text": [
      "            ID  year loan_limit             Gender approv_in_adv loan_purpose  \\\n",
      "0        24913  2019         cf             Female         nopre           p3   \n",
      "1        24914  2019         cf               Male         nopre           p3   \n",
      "2        24915  2019        NaN              Joint         nopre           p3   \n",
      "3        24916  2019         cf              Joint         nopre           p1   \n",
      "4        24917  2019         cf  Sex Not Available         nopre           p4   \n",
      "...        ...   ...        ...                ...           ...          ...   \n",
      "148642  173555  2019         cf  Sex Not Available         nopre           p3   \n",
      "148643  173556  2019         cf               Male         nopre           p1   \n",
      "148644  173557  2019         cf               Male         nopre           p4   \n",
      "148645  173558  2019         cf             Female         nopre           p4   \n",
      "148646  173559  2019         cf             Female         nopre           p3   \n",
      "\n",
      "       Credit_Worthiness open_credit business_or_commercial  loan_amount  ...  \\\n",
      "0                     l1        nopc                  nob/c       316500  ...   \n",
      "1                     l2        nopc                  nob/c       336500  ...   \n",
      "2                     l1        nopc                  nob/c       426500  ...   \n",
      "3                     l1        nopc                  nob/c       476500  ...   \n",
      "4                     l1        nopc                  nob/c       196500  ...   \n",
      "...                  ...         ...                    ...          ...  ...   \n",
      "148642                l1        nopc                  nob/c       436500  ...   \n",
      "148643                l1        nopc                  nob/c       586500  ...   \n",
      "148644                l1        nopc                  nob/c       446500  ...   \n",
      "148645                l1        nopc                  nob/c       196500  ...   \n",
      "148646                l1        nopc                  nob/c       406500  ...   \n",
      "\n",
      "        income  credit_type  Credit_Score  co-applicant_credit_type    age  \\\n",
      "0       2760.0          CIB           620                       CIB  65-74   \n",
      "1       4980.0          CIB           846                       CIB  35-44   \n",
      "2       8940.0          EXP           533                       EXP  45-54   \n",
      "3       6780.0         EQUI           518                       EXP  45-54   \n",
      "4       3840.0          EXP           812                       EXP  25-34   \n",
      "...        ...          ...           ...                       ...    ...   \n",
      "148642  7860.0          CIB           659                       EXP  55-64   \n",
      "148643  7140.0          CIB           569                       CIB  25-34   \n",
      "148644  6900.0          CIB           702                       EXP  45-54   \n",
      "148645  7140.0          EXP           737                       EXP  55-64   \n",
      "148646  7260.0          CIB           830                       CIB  45-54   \n",
      "\n",
      "              LTV Region  Security_Type Status dtir1  \n",
      "0       62.303150  south         direct      0  44.0  \n",
      "1       78.621495  south         direct      0  35.0  \n",
      "2       75.088028  North         direct      0  34.0  \n",
      "3             NaN  south         direct      1   NaN  \n",
      "4       76.162791  south         direct      0  49.0  \n",
      "...           ...    ...            ...    ...   ...  \n",
      "148642  71.792763  south         direct      0  48.0  \n",
      "148643  74.428934  south         direct      0  15.0  \n",
      "148644  61.332418  North         direct      0  49.0  \n",
      "148645  70.683453  North         direct      0  29.0  \n",
      "148646  72.849462  North         direct      0  44.0  \n",
      "\n",
      "[148647 rows x 30 columns]\n"
     ]
    }
   ],
   "source": [
    "'''Loading the dataset to perform further steps'''\n",
    "data =pd.read_csv(\"Loan.csv\")\n",
    "print(data)"
   ]
  },
  {
   "cell_type": "code",
   "execution_count": 4,
   "id": "6c6c8e72",
   "metadata": {
    "scrolled": true
   },
   "outputs": [
    {
     "data": {
      "text/html": [
       "<div>\n",
       "<style scoped>\n",
       "    .dataframe tbody tr th:only-of-type {\n",
       "        vertical-align: middle;\n",
       "    }\n",
       "\n",
       "    .dataframe tbody tr th {\n",
       "        vertical-align: top;\n",
       "    }\n",
       "\n",
       "    .dataframe thead th {\n",
       "        text-align: right;\n",
       "    }\n",
       "</style>\n",
       "<table border=\"1\" class=\"dataframe\">\n",
       "  <thead>\n",
       "    <tr style=\"text-align: right;\">\n",
       "      <th></th>\n",
       "      <th>ID</th>\n",
       "      <th>year</th>\n",
       "      <th>loan_limit</th>\n",
       "      <th>Gender</th>\n",
       "      <th>approv_in_adv</th>\n",
       "      <th>loan_purpose</th>\n",
       "      <th>Credit_Worthiness</th>\n",
       "      <th>open_credit</th>\n",
       "      <th>business_or_commercial</th>\n",
       "      <th>loan_amount</th>\n",
       "      <th>...</th>\n",
       "      <th>income</th>\n",
       "      <th>credit_type</th>\n",
       "      <th>Credit_Score</th>\n",
       "      <th>co-applicant_credit_type</th>\n",
       "      <th>age</th>\n",
       "      <th>LTV</th>\n",
       "      <th>Region</th>\n",
       "      <th>Security_Type</th>\n",
       "      <th>Status</th>\n",
       "      <th>dtir1</th>\n",
       "    </tr>\n",
       "  </thead>\n",
       "  <tbody>\n",
       "    <tr>\n",
       "      <th>0</th>\n",
       "      <td>24913</td>\n",
       "      <td>2019</td>\n",
       "      <td>cf</td>\n",
       "      <td>Female</td>\n",
       "      <td>nopre</td>\n",
       "      <td>p3</td>\n",
       "      <td>l1</td>\n",
       "      <td>nopc</td>\n",
       "      <td>nob/c</td>\n",
       "      <td>316500</td>\n",
       "      <td>...</td>\n",
       "      <td>2760.0</td>\n",
       "      <td>CIB</td>\n",
       "      <td>620</td>\n",
       "      <td>CIB</td>\n",
       "      <td>65-74</td>\n",
       "      <td>62.303150</td>\n",
       "      <td>south</td>\n",
       "      <td>direct</td>\n",
       "      <td>0</td>\n",
       "      <td>44.0</td>\n",
       "    </tr>\n",
       "    <tr>\n",
       "      <th>1</th>\n",
       "      <td>24914</td>\n",
       "      <td>2019</td>\n",
       "      <td>cf</td>\n",
       "      <td>Male</td>\n",
       "      <td>nopre</td>\n",
       "      <td>p3</td>\n",
       "      <td>l2</td>\n",
       "      <td>nopc</td>\n",
       "      <td>nob/c</td>\n",
       "      <td>336500</td>\n",
       "      <td>...</td>\n",
       "      <td>4980.0</td>\n",
       "      <td>CIB</td>\n",
       "      <td>846</td>\n",
       "      <td>CIB</td>\n",
       "      <td>35-44</td>\n",
       "      <td>78.621495</td>\n",
       "      <td>south</td>\n",
       "      <td>direct</td>\n",
       "      <td>0</td>\n",
       "      <td>35.0</td>\n",
       "    </tr>\n",
       "    <tr>\n",
       "      <th>2</th>\n",
       "      <td>24915</td>\n",
       "      <td>2019</td>\n",
       "      <td>NaN</td>\n",
       "      <td>Joint</td>\n",
       "      <td>nopre</td>\n",
       "      <td>p3</td>\n",
       "      <td>l1</td>\n",
       "      <td>nopc</td>\n",
       "      <td>nob/c</td>\n",
       "      <td>426500</td>\n",
       "      <td>...</td>\n",
       "      <td>8940.0</td>\n",
       "      <td>EXP</td>\n",
       "      <td>533</td>\n",
       "      <td>EXP</td>\n",
       "      <td>45-54</td>\n",
       "      <td>75.088028</td>\n",
       "      <td>North</td>\n",
       "      <td>direct</td>\n",
       "      <td>0</td>\n",
       "      <td>34.0</td>\n",
       "    </tr>\n",
       "    <tr>\n",
       "      <th>3</th>\n",
       "      <td>24916</td>\n",
       "      <td>2019</td>\n",
       "      <td>cf</td>\n",
       "      <td>Joint</td>\n",
       "      <td>nopre</td>\n",
       "      <td>p1</td>\n",
       "      <td>l1</td>\n",
       "      <td>nopc</td>\n",
       "      <td>nob/c</td>\n",
       "      <td>476500</td>\n",
       "      <td>...</td>\n",
       "      <td>6780.0</td>\n",
       "      <td>EQUI</td>\n",
       "      <td>518</td>\n",
       "      <td>EXP</td>\n",
       "      <td>45-54</td>\n",
       "      <td>NaN</td>\n",
       "      <td>south</td>\n",
       "      <td>direct</td>\n",
       "      <td>1</td>\n",
       "      <td>NaN</td>\n",
       "    </tr>\n",
       "    <tr>\n",
       "      <th>4</th>\n",
       "      <td>24917</td>\n",
       "      <td>2019</td>\n",
       "      <td>cf</td>\n",
       "      <td>Sex Not Available</td>\n",
       "      <td>nopre</td>\n",
       "      <td>p4</td>\n",
       "      <td>l1</td>\n",
       "      <td>nopc</td>\n",
       "      <td>nob/c</td>\n",
       "      <td>196500</td>\n",
       "      <td>...</td>\n",
       "      <td>3840.0</td>\n",
       "      <td>EXP</td>\n",
       "      <td>812</td>\n",
       "      <td>EXP</td>\n",
       "      <td>25-34</td>\n",
       "      <td>76.162791</td>\n",
       "      <td>south</td>\n",
       "      <td>direct</td>\n",
       "      <td>0</td>\n",
       "      <td>49.0</td>\n",
       "    </tr>\n",
       "  </tbody>\n",
       "</table>\n",
       "<p>5 rows × 30 columns</p>\n",
       "</div>"
      ],
      "text/plain": [
       "      ID  year loan_limit             Gender approv_in_adv loan_purpose  \\\n",
       "0  24913  2019         cf             Female         nopre           p3   \n",
       "1  24914  2019         cf               Male         nopre           p3   \n",
       "2  24915  2019        NaN              Joint         nopre           p3   \n",
       "3  24916  2019         cf              Joint         nopre           p1   \n",
       "4  24917  2019         cf  Sex Not Available         nopre           p4   \n",
       "\n",
       "  Credit_Worthiness open_credit business_or_commercial  loan_amount  ...  \\\n",
       "0                l1        nopc                  nob/c       316500  ...   \n",
       "1                l2        nopc                  nob/c       336500  ...   \n",
       "2                l1        nopc                  nob/c       426500  ...   \n",
       "3                l1        nopc                  nob/c       476500  ...   \n",
       "4                l1        nopc                  nob/c       196500  ...   \n",
       "\n",
       "   income  credit_type  Credit_Score  co-applicant_credit_type    age  \\\n",
       "0  2760.0          CIB           620                       CIB  65-74   \n",
       "1  4980.0          CIB           846                       CIB  35-44   \n",
       "2  8940.0          EXP           533                       EXP  45-54   \n",
       "3  6780.0         EQUI           518                       EXP  45-54   \n",
       "4  3840.0          EXP           812                       EXP  25-34   \n",
       "\n",
       "         LTV Region  Security_Type Status dtir1  \n",
       "0  62.303150  south         direct      0  44.0  \n",
       "1  78.621495  south         direct      0  35.0  \n",
       "2  75.088028  North         direct      0  34.0  \n",
       "3        NaN  south         direct      1   NaN  \n",
       "4  76.162791  south         direct      0  49.0  \n",
       "\n",
       "[5 rows x 30 columns]"
      ]
     },
     "execution_count": 4,
     "metadata": {},
     "output_type": "execute_result"
    }
   ],
   "source": [
    "data.head() #printing the first few rows"
   ]
  },
  {
   "cell_type": "code",
   "execution_count": 5,
   "id": "42749527",
   "metadata": {},
   "outputs": [
    {
     "name": "stdout",
     "output_type": "stream",
     "text": [
      "<class 'pandas.core.frame.DataFrame'>\n",
      "RangeIndex: 148647 entries, 0 to 148646\n",
      "Data columns (total 30 columns):\n",
      " #   Column                    Non-Null Count   Dtype  \n",
      "---  ------                    --------------   -----  \n",
      " 0   ID                        148647 non-null  int64  \n",
      " 1   year                      148647 non-null  int64  \n",
      " 2   loan_limit                145304 non-null  object \n",
      " 3   Gender                    148647 non-null  object \n",
      " 4   approv_in_adv             147739 non-null  object \n",
      " 5   loan_purpose              148513 non-null  object \n",
      " 6   Credit_Worthiness         148647 non-null  object \n",
      " 7   open_credit               148647 non-null  object \n",
      " 8   business_or_commercial    148647 non-null  object \n",
      " 9   loan_amount               148647 non-null  int64  \n",
      " 10  rate_of_interest          112216 non-null  float64\n",
      " 11  Interest_rate_spread      112016 non-null  float64\n",
      " 12  Upfront_charges           109014 non-null  float64\n",
      " 13  term                      148606 non-null  float64\n",
      " 14  Neg_ammortization         148526 non-null  object \n",
      " 15  interest_only             148647 non-null  object \n",
      " 16  lump_sum_payment          148647 non-null  object \n",
      " 17  property_value            133550 non-null  float64\n",
      " 18  Secured_by                148647 non-null  object \n",
      " 19  total_units               148647 non-null  object \n",
      " 20  income                    139498 non-null  float64\n",
      " 21  credit_type               148647 non-null  object \n",
      " 22  Credit_Score              148647 non-null  int64  \n",
      " 23  co-applicant_credit_type  148647 non-null  object \n",
      " 24  age                       148447 non-null  object \n",
      " 25  LTV                       133550 non-null  float64\n",
      " 26  Region                    148647 non-null  object \n",
      " 27  Security_Type             148647 non-null  object \n",
      " 28  Status                    148647 non-null  int64  \n",
      " 29  dtir1                     124528 non-null  float64\n",
      "dtypes: float64(8), int64(5), object(17)\n",
      "memory usage: 34.0+ MB\n"
     ]
    }
   ],
   "source": [
    "data.info(verbose=True) #Finding the datatypes of each column"
   ]
  },
  {
   "cell_type": "markdown",
   "id": "796a2b28",
   "metadata": {},
   "source": [
    "Finding Missing Values"
   ]
  },
  {
   "cell_type": "code",
   "execution_count": 6,
   "id": "14d005bc",
   "metadata": {},
   "outputs": [
    {
     "data": {
      "text/plain": [
       "ID                              0\n",
       "year                            0\n",
       "loan_limit                   3343\n",
       "Gender                          0\n",
       "approv_in_adv                 908\n",
       "loan_purpose                  134\n",
       "Credit_Worthiness               0\n",
       "open_credit                     0\n",
       "business_or_commercial          0\n",
       "loan_amount                     0\n",
       "rate_of_interest            36431\n",
       "Interest_rate_spread        36631\n",
       "Upfront_charges             39633\n",
       "term                           41\n",
       "Neg_ammortization             121\n",
       "interest_only                   0\n",
       "lump_sum_payment                0\n",
       "property_value              15097\n",
       "Secured_by                      0\n",
       "total_units                     0\n",
       "income                       9149\n",
       "credit_type                     0\n",
       "Credit_Score                    0\n",
       "co-applicant_credit_type        0\n",
       "age                           200\n",
       "LTV                         15097\n",
       "Region                          0\n",
       "Security_Type                   0\n",
       "Status                          0\n",
       "dtir1                       24119\n",
       "dtype: int64"
      ]
     },
     "execution_count": 6,
     "metadata": {},
     "output_type": "execute_result"
    }
   ],
   "source": [
    "data.isnull().sum()  #number of missing values in each column"
   ]
  },
  {
   "cell_type": "code",
   "execution_count": 7,
   "id": "23af9353",
   "metadata": {},
   "outputs": [
    {
     "data": {
      "text/plain": [
       "ID                           0.00\n",
       "year                         0.00\n",
       "loan_limit                   2.25\n",
       "Gender                       0.00\n",
       "approv_in_adv                0.61\n",
       "loan_purpose                 0.09\n",
       "Credit_Worthiness            0.00\n",
       "open_credit                  0.00\n",
       "business_or_commercial       0.00\n",
       "loan_amount                  0.00\n",
       "rate_of_interest            24.51\n",
       "Interest_rate_spread        24.64\n",
       "Upfront_charges             26.66\n",
       "term                         0.03\n",
       "Neg_ammortization            0.08\n",
       "interest_only                0.00\n",
       "lump_sum_payment             0.00\n",
       "property_value              10.16\n",
       "Secured_by                   0.00\n",
       "total_units                  0.00\n",
       "income                       6.15\n",
       "credit_type                  0.00\n",
       "Credit_Score                 0.00\n",
       "co-applicant_credit_type     0.00\n",
       "age                          0.13\n",
       "LTV                         10.16\n",
       "Region                       0.00\n",
       "Security_Type                0.00\n",
       "Status                       0.00\n",
       "dtir1                       16.23\n",
       "dtype: float64"
      ]
     },
     "execution_count": 7,
     "metadata": {},
     "output_type": "execute_result"
    }
   ],
   "source": [
    "round(data.isnull().sum() / data.shape[0] * 100.00,2) #percentage of missing values in each column"
   ]
  },
  {
   "cell_type": "code",
   "execution_count": 8,
   "id": "c9ce4616",
   "metadata": {},
   "outputs": [
    {
     "name": "stdout",
     "output_type": "stream",
     "text": [
      "[2019]\n"
     ]
    }
   ],
   "source": [
    "print(data['year'].unique())"
   ]
  },
  {
   "cell_type": "markdown",
   "id": "4abcc051",
   "metadata": {},
   "source": [
    "# - Removing unnecessary columns and imputing missing values using statistical methods - mean and median - for numerical values and mode for categorical values\n",
    "\n",
    "**Now that we have an overview of the dataset, we move on to cleaning the dataset. It involves finding the number of missing values present in each column. In this section, we will also analyse and pick out columns we do not require for the purpose of our analysis. We can delete these redundant columns.**"
   ]
  },
  {
   "cell_type": "markdown",
   "id": "967ab3eb",
   "metadata": {},
   "source": [
    "**Since the data is from 2019, the whole year column has only one value. It does not contribute much to our objective and hence, can be deleted. Similarly, since our focus is to determine and understand factors on which loan amount approval is based, we do not require the columns that give information on procedures that take place after a particular loan has been approved. Hence, we can delete this columns as well.**"
   ]
  },
  {
   "cell_type": "code",
   "execution_count": 9,
   "id": "c5a4c078",
   "metadata": {},
   "outputs": [
    {
     "data": {
      "text/html": [
       "<div>\n",
       "<style scoped>\n",
       "    .dataframe tbody tr th:only-of-type {\n",
       "        vertical-align: middle;\n",
       "    }\n",
       "\n",
       "    .dataframe tbody tr th {\n",
       "        vertical-align: top;\n",
       "    }\n",
       "\n",
       "    .dataframe thead th {\n",
       "        text-align: right;\n",
       "    }\n",
       "</style>\n",
       "<table border=\"1\" class=\"dataframe\">\n",
       "  <thead>\n",
       "    <tr style=\"text-align: right;\">\n",
       "      <th></th>\n",
       "      <th>ID</th>\n",
       "      <th>Gender</th>\n",
       "      <th>approv_in_adv</th>\n",
       "      <th>loan_purpose</th>\n",
       "      <th>Credit_Worthiness</th>\n",
       "      <th>business_or_commercial</th>\n",
       "      <th>loan_amount</th>\n",
       "      <th>rate_of_interest</th>\n",
       "      <th>term</th>\n",
       "      <th>Neg_ammortization</th>\n",
       "      <th>...</th>\n",
       "      <th>total_units</th>\n",
       "      <th>income</th>\n",
       "      <th>credit_type</th>\n",
       "      <th>Credit_Score</th>\n",
       "      <th>age</th>\n",
       "      <th>LTV</th>\n",
       "      <th>Region</th>\n",
       "      <th>Security_Type</th>\n",
       "      <th>Status</th>\n",
       "      <th>dtir1</th>\n",
       "    </tr>\n",
       "  </thead>\n",
       "  <tbody>\n",
       "    <tr>\n",
       "      <th>0</th>\n",
       "      <td>24913</td>\n",
       "      <td>Female</td>\n",
       "      <td>nopre</td>\n",
       "      <td>p3</td>\n",
       "      <td>l1</td>\n",
       "      <td>nob/c</td>\n",
       "      <td>316500</td>\n",
       "      <td>3.625</td>\n",
       "      <td>360.0</td>\n",
       "      <td>not_neg</td>\n",
       "      <td>...</td>\n",
       "      <td>1U</td>\n",
       "      <td>2760.0</td>\n",
       "      <td>CIB</td>\n",
       "      <td>620</td>\n",
       "      <td>65-74</td>\n",
       "      <td>62.303150</td>\n",
       "      <td>south</td>\n",
       "      <td>direct</td>\n",
       "      <td>0</td>\n",
       "      <td>44.0</td>\n",
       "    </tr>\n",
       "    <tr>\n",
       "      <th>1</th>\n",
       "      <td>24914</td>\n",
       "      <td>Male</td>\n",
       "      <td>nopre</td>\n",
       "      <td>p3</td>\n",
       "      <td>l2</td>\n",
       "      <td>nob/c</td>\n",
       "      <td>336500</td>\n",
       "      <td>4.500</td>\n",
       "      <td>360.0</td>\n",
       "      <td>not_neg</td>\n",
       "      <td>...</td>\n",
       "      <td>1U</td>\n",
       "      <td>4980.0</td>\n",
       "      <td>CIB</td>\n",
       "      <td>846</td>\n",
       "      <td>35-44</td>\n",
       "      <td>78.621495</td>\n",
       "      <td>south</td>\n",
       "      <td>direct</td>\n",
       "      <td>0</td>\n",
       "      <td>35.0</td>\n",
       "    </tr>\n",
       "    <tr>\n",
       "      <th>2</th>\n",
       "      <td>24915</td>\n",
       "      <td>Joint</td>\n",
       "      <td>nopre</td>\n",
       "      <td>p3</td>\n",
       "      <td>l1</td>\n",
       "      <td>nob/c</td>\n",
       "      <td>426500</td>\n",
       "      <td>4.990</td>\n",
       "      <td>360.0</td>\n",
       "      <td>not_neg</td>\n",
       "      <td>...</td>\n",
       "      <td>1U</td>\n",
       "      <td>8940.0</td>\n",
       "      <td>EXP</td>\n",
       "      <td>533</td>\n",
       "      <td>45-54</td>\n",
       "      <td>75.088028</td>\n",
       "      <td>North</td>\n",
       "      <td>direct</td>\n",
       "      <td>0</td>\n",
       "      <td>34.0</td>\n",
       "    </tr>\n",
       "    <tr>\n",
       "      <th>3</th>\n",
       "      <td>24916</td>\n",
       "      <td>Joint</td>\n",
       "      <td>nopre</td>\n",
       "      <td>p1</td>\n",
       "      <td>l1</td>\n",
       "      <td>nob/c</td>\n",
       "      <td>476500</td>\n",
       "      <td>NaN</td>\n",
       "      <td>360.0</td>\n",
       "      <td>not_neg</td>\n",
       "      <td>...</td>\n",
       "      <td>1U</td>\n",
       "      <td>6780.0</td>\n",
       "      <td>EQUI</td>\n",
       "      <td>518</td>\n",
       "      <td>45-54</td>\n",
       "      <td>NaN</td>\n",
       "      <td>south</td>\n",
       "      <td>direct</td>\n",
       "      <td>1</td>\n",
       "      <td>NaN</td>\n",
       "    </tr>\n",
       "    <tr>\n",
       "      <th>4</th>\n",
       "      <td>24917</td>\n",
       "      <td>Sex Not Available</td>\n",
       "      <td>nopre</td>\n",
       "      <td>p4</td>\n",
       "      <td>l1</td>\n",
       "      <td>nob/c</td>\n",
       "      <td>196500</td>\n",
       "      <td>5.250</td>\n",
       "      <td>360.0</td>\n",
       "      <td>not_neg</td>\n",
       "      <td>...</td>\n",
       "      <td>1U</td>\n",
       "      <td>3840.0</td>\n",
       "      <td>EXP</td>\n",
       "      <td>812</td>\n",
       "      <td>25-34</td>\n",
       "      <td>76.162791</td>\n",
       "      <td>south</td>\n",
       "      <td>direct</td>\n",
       "      <td>0</td>\n",
       "      <td>49.0</td>\n",
       "    </tr>\n",
       "    <tr>\n",
       "      <th>...</th>\n",
       "      <td>...</td>\n",
       "      <td>...</td>\n",
       "      <td>...</td>\n",
       "      <td>...</td>\n",
       "      <td>...</td>\n",
       "      <td>...</td>\n",
       "      <td>...</td>\n",
       "      <td>...</td>\n",
       "      <td>...</td>\n",
       "      <td>...</td>\n",
       "      <td>...</td>\n",
       "      <td>...</td>\n",
       "      <td>...</td>\n",
       "      <td>...</td>\n",
       "      <td>...</td>\n",
       "      <td>...</td>\n",
       "      <td>...</td>\n",
       "      <td>...</td>\n",
       "      <td>...</td>\n",
       "      <td>...</td>\n",
       "      <td>...</td>\n",
       "    </tr>\n",
       "    <tr>\n",
       "      <th>148642</th>\n",
       "      <td>173555</td>\n",
       "      <td>Sex Not Available</td>\n",
       "      <td>nopre</td>\n",
       "      <td>p3</td>\n",
       "      <td>l1</td>\n",
       "      <td>nob/c</td>\n",
       "      <td>436500</td>\n",
       "      <td>3.125</td>\n",
       "      <td>180.0</td>\n",
       "      <td>not_neg</td>\n",
       "      <td>...</td>\n",
       "      <td>1U</td>\n",
       "      <td>7860.0</td>\n",
       "      <td>CIB</td>\n",
       "      <td>659</td>\n",
       "      <td>55-64</td>\n",
       "      <td>71.792763</td>\n",
       "      <td>south</td>\n",
       "      <td>direct</td>\n",
       "      <td>0</td>\n",
       "      <td>48.0</td>\n",
       "    </tr>\n",
       "    <tr>\n",
       "      <th>148643</th>\n",
       "      <td>173556</td>\n",
       "      <td>Male</td>\n",
       "      <td>nopre</td>\n",
       "      <td>p1</td>\n",
       "      <td>l1</td>\n",
       "      <td>nob/c</td>\n",
       "      <td>586500</td>\n",
       "      <td>5.190</td>\n",
       "      <td>360.0</td>\n",
       "      <td>not_neg</td>\n",
       "      <td>...</td>\n",
       "      <td>4U</td>\n",
       "      <td>7140.0</td>\n",
       "      <td>CIB</td>\n",
       "      <td>569</td>\n",
       "      <td>25-34</td>\n",
       "      <td>74.428934</td>\n",
       "      <td>south</td>\n",
       "      <td>direct</td>\n",
       "      <td>0</td>\n",
       "      <td>15.0</td>\n",
       "    </tr>\n",
       "    <tr>\n",
       "      <th>148644</th>\n",
       "      <td>173557</td>\n",
       "      <td>Male</td>\n",
       "      <td>nopre</td>\n",
       "      <td>p4</td>\n",
       "      <td>l1</td>\n",
       "      <td>nob/c</td>\n",
       "      <td>446500</td>\n",
       "      <td>3.125</td>\n",
       "      <td>180.0</td>\n",
       "      <td>not_neg</td>\n",
       "      <td>...</td>\n",
       "      <td>1U</td>\n",
       "      <td>6900.0</td>\n",
       "      <td>CIB</td>\n",
       "      <td>702</td>\n",
       "      <td>45-54</td>\n",
       "      <td>61.332418</td>\n",
       "      <td>North</td>\n",
       "      <td>direct</td>\n",
       "      <td>0</td>\n",
       "      <td>49.0</td>\n",
       "    </tr>\n",
       "    <tr>\n",
       "      <th>148645</th>\n",
       "      <td>173558</td>\n",
       "      <td>Female</td>\n",
       "      <td>nopre</td>\n",
       "      <td>p4</td>\n",
       "      <td>l1</td>\n",
       "      <td>nob/c</td>\n",
       "      <td>196500</td>\n",
       "      <td>3.500</td>\n",
       "      <td>180.0</td>\n",
       "      <td>not_neg</td>\n",
       "      <td>...</td>\n",
       "      <td>1U</td>\n",
       "      <td>7140.0</td>\n",
       "      <td>EXP</td>\n",
       "      <td>737</td>\n",
       "      <td>55-64</td>\n",
       "      <td>70.683453</td>\n",
       "      <td>North</td>\n",
       "      <td>direct</td>\n",
       "      <td>0</td>\n",
       "      <td>29.0</td>\n",
       "    </tr>\n",
       "    <tr>\n",
       "      <th>148646</th>\n",
       "      <td>173559</td>\n",
       "      <td>Female</td>\n",
       "      <td>nopre</td>\n",
       "      <td>p3</td>\n",
       "      <td>l1</td>\n",
       "      <td>nob/c</td>\n",
       "      <td>406500</td>\n",
       "      <td>4.375</td>\n",
       "      <td>240.0</td>\n",
       "      <td>not_neg</td>\n",
       "      <td>...</td>\n",
       "      <td>1U</td>\n",
       "      <td>7260.0</td>\n",
       "      <td>CIB</td>\n",
       "      <td>830</td>\n",
       "      <td>45-54</td>\n",
       "      <td>72.849462</td>\n",
       "      <td>North</td>\n",
       "      <td>direct</td>\n",
       "      <td>0</td>\n",
       "      <td>44.0</td>\n",
       "    </tr>\n",
       "  </tbody>\n",
       "</table>\n",
       "<p>148647 rows × 23 columns</p>\n",
       "</div>"
      ],
      "text/plain": [
       "            ID             Gender approv_in_adv loan_purpose  \\\n",
       "0        24913             Female         nopre           p3   \n",
       "1        24914               Male         nopre           p3   \n",
       "2        24915              Joint         nopre           p3   \n",
       "3        24916              Joint         nopre           p1   \n",
       "4        24917  Sex Not Available         nopre           p4   \n",
       "...        ...                ...           ...          ...   \n",
       "148642  173555  Sex Not Available         nopre           p3   \n",
       "148643  173556               Male         nopre           p1   \n",
       "148644  173557               Male         nopre           p4   \n",
       "148645  173558             Female         nopre           p4   \n",
       "148646  173559             Female         nopre           p3   \n",
       "\n",
       "       Credit_Worthiness business_or_commercial  loan_amount  \\\n",
       "0                     l1                  nob/c       316500   \n",
       "1                     l2                  nob/c       336500   \n",
       "2                     l1                  nob/c       426500   \n",
       "3                     l1                  nob/c       476500   \n",
       "4                     l1                  nob/c       196500   \n",
       "...                  ...                    ...          ...   \n",
       "148642                l1                  nob/c       436500   \n",
       "148643                l1                  nob/c       586500   \n",
       "148644                l1                  nob/c       446500   \n",
       "148645                l1                  nob/c       196500   \n",
       "148646                l1                  nob/c       406500   \n",
       "\n",
       "        rate_of_interest   term Neg_ammortization  ... total_units  income  \\\n",
       "0                  3.625  360.0           not_neg  ...          1U  2760.0   \n",
       "1                  4.500  360.0           not_neg  ...          1U  4980.0   \n",
       "2                  4.990  360.0           not_neg  ...          1U  8940.0   \n",
       "3                    NaN  360.0           not_neg  ...          1U  6780.0   \n",
       "4                  5.250  360.0           not_neg  ...          1U  3840.0   \n",
       "...                  ...    ...               ...  ...         ...     ...   \n",
       "148642             3.125  180.0           not_neg  ...          1U  7860.0   \n",
       "148643             5.190  360.0           not_neg  ...          4U  7140.0   \n",
       "148644             3.125  180.0           not_neg  ...          1U  6900.0   \n",
       "148645             3.500  180.0           not_neg  ...          1U  7140.0   \n",
       "148646             4.375  240.0           not_neg  ...          1U  7260.0   \n",
       "\n",
       "       credit_type Credit_Score    age        LTV  Region Security_Type  \\\n",
       "0              CIB          620  65-74  62.303150   south        direct   \n",
       "1              CIB          846  35-44  78.621495   south        direct   \n",
       "2              EXP          533  45-54  75.088028   North        direct   \n",
       "3             EQUI          518  45-54        NaN   south        direct   \n",
       "4              EXP          812  25-34  76.162791   south        direct   \n",
       "...            ...          ...    ...        ...     ...           ...   \n",
       "148642         CIB          659  55-64  71.792763   south        direct   \n",
       "148643         CIB          569  25-34  74.428934   south        direct   \n",
       "148644         CIB          702  45-54  61.332418   North        direct   \n",
       "148645         EXP          737  55-64  70.683453   North        direct   \n",
       "148646         CIB          830  45-54  72.849462   North        direct   \n",
       "\n",
       "        Status dtir1  \n",
       "0            0  44.0  \n",
       "1            0  35.0  \n",
       "2            0  34.0  \n",
       "3            1   NaN  \n",
       "4            0  49.0  \n",
       "...        ...   ...  \n",
       "148642       0  48.0  \n",
       "148643       0  15.0  \n",
       "148644       0  49.0  \n",
       "148645       0  29.0  \n",
       "148646       0  44.0  \n",
       "\n",
       "[148647 rows x 23 columns]"
      ]
     },
     "execution_count": 9,
     "metadata": {},
     "output_type": "execute_result"
    }
   ],
   "source": [
    "'''using \"del\" to delete all the redundant columns'''\n",
    "\n",
    "del data['year']\n",
    "del data['loan_limit']\n",
    "del data['Interest_rate_spread']\n",
    "del data['interest_only']\n",
    "del data['co-applicant_credit_type']\n",
    "del data['open_credit']\n",
    "del data['Upfront_charges']\n",
    "data"
   ]
  },
  {
   "cell_type": "code",
   "execution_count": 10,
   "id": "f5ede0cf",
   "metadata": {},
   "outputs": [
    {
     "data": {
      "text/plain": [
       "ID                         0.00\n",
       "Gender                     0.00\n",
       "approv_in_adv              0.61\n",
       "loan_purpose               0.09\n",
       "Credit_Worthiness          0.00\n",
       "business_or_commercial     0.00\n",
       "loan_amount                0.00\n",
       "rate_of_interest          24.51\n",
       "term                       0.03\n",
       "Neg_ammortization          0.08\n",
       "lump_sum_payment           0.00\n",
       "property_value            10.16\n",
       "Secured_by                 0.00\n",
       "total_units                0.00\n",
       "income                     6.15\n",
       "credit_type                0.00\n",
       "Credit_Score               0.00\n",
       "age                        0.13\n",
       "LTV                       10.16\n",
       "Region                     0.00\n",
       "Security_Type              0.00\n",
       "Status                     0.00\n",
       "dtir1                     16.23\n",
       "dtype: float64"
      ]
     },
     "execution_count": 10,
     "metadata": {},
     "output_type": "execute_result"
    }
   ],
   "source": [
    "round(data.isnull().sum() / data.shape[0] * 100.00,2)"
   ]
  },
  {
   "cell_type": "code",
   "execution_count": 11,
   "id": "6d833167",
   "metadata": {},
   "outputs": [
    {
     "data": {
      "text/html": [
       "<div>\n",
       "<style scoped>\n",
       "    .dataframe tbody tr th:only-of-type {\n",
       "        vertical-align: middle;\n",
       "    }\n",
       "\n",
       "    .dataframe tbody tr th {\n",
       "        vertical-align: top;\n",
       "    }\n",
       "\n",
       "    .dataframe thead th {\n",
       "        text-align: right;\n",
       "    }\n",
       "</style>\n",
       "<table border=\"1\" class=\"dataframe\">\n",
       "  <thead>\n",
       "    <tr style=\"text-align: right;\">\n",
       "      <th></th>\n",
       "      <th>ID</th>\n",
       "      <th>Gender</th>\n",
       "      <th>loan_purpose</th>\n",
       "      <th>Credit_Worthiness</th>\n",
       "      <th>business_or_commercial</th>\n",
       "      <th>loan_amount</th>\n",
       "      <th>rate_of_interest</th>\n",
       "      <th>term</th>\n",
       "      <th>Neg_ammortization</th>\n",
       "      <th>lump_sum_payment</th>\n",
       "      <th>...</th>\n",
       "      <th>total_units</th>\n",
       "      <th>income</th>\n",
       "      <th>credit_type</th>\n",
       "      <th>Credit_Score</th>\n",
       "      <th>age</th>\n",
       "      <th>LTV</th>\n",
       "      <th>Region</th>\n",
       "      <th>Security_Type</th>\n",
       "      <th>Status</th>\n",
       "      <th>dtir1</th>\n",
       "    </tr>\n",
       "  </thead>\n",
       "  <tbody>\n",
       "    <tr>\n",
       "      <th>0</th>\n",
       "      <td>24913</td>\n",
       "      <td>Female</td>\n",
       "      <td>p3</td>\n",
       "      <td>l1</td>\n",
       "      <td>nob/c</td>\n",
       "      <td>316500</td>\n",
       "      <td>3.625</td>\n",
       "      <td>360.0</td>\n",
       "      <td>not_neg</td>\n",
       "      <td>not_lpsm</td>\n",
       "      <td>...</td>\n",
       "      <td>1U</td>\n",
       "      <td>2760.0</td>\n",
       "      <td>CIB</td>\n",
       "      <td>620</td>\n",
       "      <td>65-74</td>\n",
       "      <td>62.303150</td>\n",
       "      <td>south</td>\n",
       "      <td>direct</td>\n",
       "      <td>0</td>\n",
       "      <td>44.0</td>\n",
       "    </tr>\n",
       "    <tr>\n",
       "      <th>1</th>\n",
       "      <td>24914</td>\n",
       "      <td>Male</td>\n",
       "      <td>p3</td>\n",
       "      <td>l2</td>\n",
       "      <td>nob/c</td>\n",
       "      <td>336500</td>\n",
       "      <td>4.500</td>\n",
       "      <td>360.0</td>\n",
       "      <td>not_neg</td>\n",
       "      <td>not_lpsm</td>\n",
       "      <td>...</td>\n",
       "      <td>1U</td>\n",
       "      <td>4980.0</td>\n",
       "      <td>CIB</td>\n",
       "      <td>846</td>\n",
       "      <td>35-44</td>\n",
       "      <td>78.621495</td>\n",
       "      <td>south</td>\n",
       "      <td>direct</td>\n",
       "      <td>0</td>\n",
       "      <td>35.0</td>\n",
       "    </tr>\n",
       "    <tr>\n",
       "      <th>2</th>\n",
       "      <td>24915</td>\n",
       "      <td>Joint</td>\n",
       "      <td>p3</td>\n",
       "      <td>l1</td>\n",
       "      <td>nob/c</td>\n",
       "      <td>426500</td>\n",
       "      <td>4.990</td>\n",
       "      <td>360.0</td>\n",
       "      <td>not_neg</td>\n",
       "      <td>not_lpsm</td>\n",
       "      <td>...</td>\n",
       "      <td>1U</td>\n",
       "      <td>8940.0</td>\n",
       "      <td>EXP</td>\n",
       "      <td>533</td>\n",
       "      <td>45-54</td>\n",
       "      <td>75.088028</td>\n",
       "      <td>North</td>\n",
       "      <td>direct</td>\n",
       "      <td>0</td>\n",
       "      <td>34.0</td>\n",
       "    </tr>\n",
       "    <tr>\n",
       "      <th>3</th>\n",
       "      <td>24916</td>\n",
       "      <td>Joint</td>\n",
       "      <td>p1</td>\n",
       "      <td>l1</td>\n",
       "      <td>nob/c</td>\n",
       "      <td>476500</td>\n",
       "      <td>NaN</td>\n",
       "      <td>360.0</td>\n",
       "      <td>not_neg</td>\n",
       "      <td>not_lpsm</td>\n",
       "      <td>...</td>\n",
       "      <td>1U</td>\n",
       "      <td>6780.0</td>\n",
       "      <td>EQUI</td>\n",
       "      <td>518</td>\n",
       "      <td>45-54</td>\n",
       "      <td>NaN</td>\n",
       "      <td>south</td>\n",
       "      <td>direct</td>\n",
       "      <td>1</td>\n",
       "      <td>NaN</td>\n",
       "    </tr>\n",
       "    <tr>\n",
       "      <th>4</th>\n",
       "      <td>24917</td>\n",
       "      <td>Sex Not Available</td>\n",
       "      <td>p4</td>\n",
       "      <td>l1</td>\n",
       "      <td>nob/c</td>\n",
       "      <td>196500</td>\n",
       "      <td>5.250</td>\n",
       "      <td>360.0</td>\n",
       "      <td>not_neg</td>\n",
       "      <td>not_lpsm</td>\n",
       "      <td>...</td>\n",
       "      <td>1U</td>\n",
       "      <td>3840.0</td>\n",
       "      <td>EXP</td>\n",
       "      <td>812</td>\n",
       "      <td>25-34</td>\n",
       "      <td>76.162791</td>\n",
       "      <td>south</td>\n",
       "      <td>direct</td>\n",
       "      <td>0</td>\n",
       "      <td>49.0</td>\n",
       "    </tr>\n",
       "    <tr>\n",
       "      <th>...</th>\n",
       "      <td>...</td>\n",
       "      <td>...</td>\n",
       "      <td>...</td>\n",
       "      <td>...</td>\n",
       "      <td>...</td>\n",
       "      <td>...</td>\n",
       "      <td>...</td>\n",
       "      <td>...</td>\n",
       "      <td>...</td>\n",
       "      <td>...</td>\n",
       "      <td>...</td>\n",
       "      <td>...</td>\n",
       "      <td>...</td>\n",
       "      <td>...</td>\n",
       "      <td>...</td>\n",
       "      <td>...</td>\n",
       "      <td>...</td>\n",
       "      <td>...</td>\n",
       "      <td>...</td>\n",
       "      <td>...</td>\n",
       "      <td>...</td>\n",
       "    </tr>\n",
       "    <tr>\n",
       "      <th>148642</th>\n",
       "      <td>173555</td>\n",
       "      <td>Sex Not Available</td>\n",
       "      <td>p3</td>\n",
       "      <td>l1</td>\n",
       "      <td>nob/c</td>\n",
       "      <td>436500</td>\n",
       "      <td>3.125</td>\n",
       "      <td>180.0</td>\n",
       "      <td>not_neg</td>\n",
       "      <td>not_lpsm</td>\n",
       "      <td>...</td>\n",
       "      <td>1U</td>\n",
       "      <td>7860.0</td>\n",
       "      <td>CIB</td>\n",
       "      <td>659</td>\n",
       "      <td>55-64</td>\n",
       "      <td>71.792763</td>\n",
       "      <td>south</td>\n",
       "      <td>direct</td>\n",
       "      <td>0</td>\n",
       "      <td>48.0</td>\n",
       "    </tr>\n",
       "    <tr>\n",
       "      <th>148643</th>\n",
       "      <td>173556</td>\n",
       "      <td>Male</td>\n",
       "      <td>p1</td>\n",
       "      <td>l1</td>\n",
       "      <td>nob/c</td>\n",
       "      <td>586500</td>\n",
       "      <td>5.190</td>\n",
       "      <td>360.0</td>\n",
       "      <td>not_neg</td>\n",
       "      <td>not_lpsm</td>\n",
       "      <td>...</td>\n",
       "      <td>4U</td>\n",
       "      <td>7140.0</td>\n",
       "      <td>CIB</td>\n",
       "      <td>569</td>\n",
       "      <td>25-34</td>\n",
       "      <td>74.428934</td>\n",
       "      <td>south</td>\n",
       "      <td>direct</td>\n",
       "      <td>0</td>\n",
       "      <td>15.0</td>\n",
       "    </tr>\n",
       "    <tr>\n",
       "      <th>148644</th>\n",
       "      <td>173557</td>\n",
       "      <td>Male</td>\n",
       "      <td>p4</td>\n",
       "      <td>l1</td>\n",
       "      <td>nob/c</td>\n",
       "      <td>446500</td>\n",
       "      <td>3.125</td>\n",
       "      <td>180.0</td>\n",
       "      <td>not_neg</td>\n",
       "      <td>not_lpsm</td>\n",
       "      <td>...</td>\n",
       "      <td>1U</td>\n",
       "      <td>6900.0</td>\n",
       "      <td>CIB</td>\n",
       "      <td>702</td>\n",
       "      <td>45-54</td>\n",
       "      <td>61.332418</td>\n",
       "      <td>North</td>\n",
       "      <td>direct</td>\n",
       "      <td>0</td>\n",
       "      <td>49.0</td>\n",
       "    </tr>\n",
       "    <tr>\n",
       "      <th>148645</th>\n",
       "      <td>173558</td>\n",
       "      <td>Female</td>\n",
       "      <td>p4</td>\n",
       "      <td>l1</td>\n",
       "      <td>nob/c</td>\n",
       "      <td>196500</td>\n",
       "      <td>3.500</td>\n",
       "      <td>180.0</td>\n",
       "      <td>not_neg</td>\n",
       "      <td>not_lpsm</td>\n",
       "      <td>...</td>\n",
       "      <td>1U</td>\n",
       "      <td>7140.0</td>\n",
       "      <td>EXP</td>\n",
       "      <td>737</td>\n",
       "      <td>55-64</td>\n",
       "      <td>70.683453</td>\n",
       "      <td>North</td>\n",
       "      <td>direct</td>\n",
       "      <td>0</td>\n",
       "      <td>29.0</td>\n",
       "    </tr>\n",
       "    <tr>\n",
       "      <th>148646</th>\n",
       "      <td>173559</td>\n",
       "      <td>Female</td>\n",
       "      <td>p3</td>\n",
       "      <td>l1</td>\n",
       "      <td>nob/c</td>\n",
       "      <td>406500</td>\n",
       "      <td>4.375</td>\n",
       "      <td>240.0</td>\n",
       "      <td>not_neg</td>\n",
       "      <td>not_lpsm</td>\n",
       "      <td>...</td>\n",
       "      <td>1U</td>\n",
       "      <td>7260.0</td>\n",
       "      <td>CIB</td>\n",
       "      <td>830</td>\n",
       "      <td>45-54</td>\n",
       "      <td>72.849462</td>\n",
       "      <td>North</td>\n",
       "      <td>direct</td>\n",
       "      <td>0</td>\n",
       "      <td>44.0</td>\n",
       "    </tr>\n",
       "  </tbody>\n",
       "</table>\n",
       "<p>148647 rows × 22 columns</p>\n",
       "</div>"
      ],
      "text/plain": [
       "            ID             Gender loan_purpose Credit_Worthiness  \\\n",
       "0        24913             Female           p3                l1   \n",
       "1        24914               Male           p3                l2   \n",
       "2        24915              Joint           p3                l1   \n",
       "3        24916              Joint           p1                l1   \n",
       "4        24917  Sex Not Available           p4                l1   \n",
       "...        ...                ...          ...               ...   \n",
       "148642  173555  Sex Not Available           p3                l1   \n",
       "148643  173556               Male           p1                l1   \n",
       "148644  173557               Male           p4                l1   \n",
       "148645  173558             Female           p4                l1   \n",
       "148646  173559             Female           p3                l1   \n",
       "\n",
       "       business_or_commercial  loan_amount  rate_of_interest   term  \\\n",
       "0                       nob/c       316500             3.625  360.0   \n",
       "1                       nob/c       336500             4.500  360.0   \n",
       "2                       nob/c       426500             4.990  360.0   \n",
       "3                       nob/c       476500               NaN  360.0   \n",
       "4                       nob/c       196500             5.250  360.0   \n",
       "...                       ...          ...               ...    ...   \n",
       "148642                  nob/c       436500             3.125  180.0   \n",
       "148643                  nob/c       586500             5.190  360.0   \n",
       "148644                  nob/c       446500             3.125  180.0   \n",
       "148645                  nob/c       196500             3.500  180.0   \n",
       "148646                  nob/c       406500             4.375  240.0   \n",
       "\n",
       "       Neg_ammortization lump_sum_payment  ...  total_units  income  \\\n",
       "0                not_neg         not_lpsm  ...           1U  2760.0   \n",
       "1                not_neg         not_lpsm  ...           1U  4980.0   \n",
       "2                not_neg         not_lpsm  ...           1U  8940.0   \n",
       "3                not_neg         not_lpsm  ...           1U  6780.0   \n",
       "4                not_neg         not_lpsm  ...           1U  3840.0   \n",
       "...                  ...              ...  ...          ...     ...   \n",
       "148642           not_neg         not_lpsm  ...           1U  7860.0   \n",
       "148643           not_neg         not_lpsm  ...           4U  7140.0   \n",
       "148644           not_neg         not_lpsm  ...           1U  6900.0   \n",
       "148645           not_neg         not_lpsm  ...           1U  7140.0   \n",
       "148646           not_neg         not_lpsm  ...           1U  7260.0   \n",
       "\n",
       "       credit_type  Credit_Score    age        LTV Region  Security_Type  \\\n",
       "0              CIB           620  65-74  62.303150  south         direct   \n",
       "1              CIB           846  35-44  78.621495  south         direct   \n",
       "2              EXP           533  45-54  75.088028  North         direct   \n",
       "3             EQUI           518  45-54        NaN  south         direct   \n",
       "4              EXP           812  25-34  76.162791  south         direct   \n",
       "...            ...           ...    ...        ...    ...            ...   \n",
       "148642         CIB           659  55-64  71.792763  south         direct   \n",
       "148643         CIB           569  25-34  74.428934  south         direct   \n",
       "148644         CIB           702  45-54  61.332418  North         direct   \n",
       "148645         EXP           737  55-64  70.683453  North         direct   \n",
       "148646         CIB           830  45-54  72.849462  North         direct   \n",
       "\n",
       "       Status dtir1  \n",
       "0           0  44.0  \n",
       "1           0  35.0  \n",
       "2           0  34.0  \n",
       "3           1   NaN  \n",
       "4           0  49.0  \n",
       "...       ...   ...  \n",
       "148642      0  48.0  \n",
       "148643      0  15.0  \n",
       "148644      0  49.0  \n",
       "148645      0  29.0  \n",
       "148646      0  44.0  \n",
       "\n",
       "[148647 rows x 22 columns]"
      ]
     },
     "execution_count": 11,
     "metadata": {},
     "output_type": "execute_result"
    }
   ],
   "source": [
    "del data['approv_in_adv']\n",
    "data"
   ]
  },
  {
   "cell_type": "code",
   "execution_count": 12,
   "id": "a84f4390",
   "metadata": {},
   "outputs": [
    {
     "data": {
      "text/plain": [
       "3.0697803276462787"
      ]
     },
     "execution_count": 12,
     "metadata": {},
     "output_type": "execute_result"
    }
   ],
   "source": [
    "data.isnull().sum().sum()/data.size * 100"
   ]
  },
  {
   "cell_type": "markdown",
   "id": "fb734abd",
   "metadata": {},
   "source": [
    "**After dropping the unnecessary columns, since the dataset is enormous, the missing values percentage is very low but for better results, we will fill the missing values using mean or median for numerical values and mode for categorical values. We will use mode for loan_purpose and age columns since they are categorical values.We will use median for rate_of_interest,property_value and dtir since median will give us the closest to accurate answer to fill in the value. We will use mean for income.**"
   ]
  },
  {
   "cell_type": "code",
   "execution_count": 13,
   "id": "ab234610",
   "metadata": {},
   "outputs": [
    {
     "name": "stdout",
     "output_type": "stream",
     "text": [
      "Mode - 0    p3\n",
      "dtype: object\n"
     ]
    }
   ],
   "source": [
    "print(\"Mode - \" + str(data.loan_purpose.mode()))"
   ]
  },
  {
   "cell_type": "code",
   "execution_count": 14,
   "id": "612447ec",
   "metadata": {},
   "outputs": [],
   "source": [
    "data.loan_purpose.fillna(data.loan_purpose.mode()[0], inplace=True)"
   ]
  },
  {
   "cell_type": "code",
   "execution_count": 15,
   "id": "8688b810",
   "metadata": {},
   "outputs": [
    {
     "name": "stdout",
     "output_type": "stream",
     "text": [
      "Median - 3.99\n"
     ]
    }
   ],
   "source": [
    "print(\"Median - \" + str(data.rate_of_interest.median()))"
   ]
  },
  {
   "cell_type": "code",
   "execution_count": 16,
   "id": "0d17bc06",
   "metadata": {},
   "outputs": [],
   "source": [
    "data.rate_of_interest.fillna(data.rate_of_interest.median(), inplace=True)"
   ]
  },
  {
   "cell_type": "code",
   "execution_count": 17,
   "id": "58b9e107",
   "metadata": {},
   "outputs": [
    {
     "data": {
      "text/plain": [
       "ID                         0.00\n",
       "Gender                     0.00\n",
       "loan_purpose               0.00\n",
       "Credit_Worthiness          0.00\n",
       "business_or_commercial     0.00\n",
       "loan_amount                0.00\n",
       "rate_of_interest           0.00\n",
       "term                       0.03\n",
       "Neg_ammortization          0.08\n",
       "lump_sum_payment           0.00\n",
       "property_value            10.16\n",
       "Secured_by                 0.00\n",
       "total_units                0.00\n",
       "income                     6.15\n",
       "credit_type                0.00\n",
       "Credit_Score               0.00\n",
       "age                        0.13\n",
       "LTV                       10.16\n",
       "Region                     0.00\n",
       "Security_Type              0.00\n",
       "Status                     0.00\n",
       "dtir1                     16.23\n",
       "dtype: float64"
      ]
     },
     "execution_count": 17,
     "metadata": {},
     "output_type": "execute_result"
    }
   ],
   "source": [
    "round(data.isnull().sum() / data.shape[0] * 100.00,2)"
   ]
  },
  {
   "cell_type": "code",
   "execution_count": 18,
   "id": "b95dee81",
   "metadata": {},
   "outputs": [
    {
     "name": "stdout",
     "output_type": "stream",
     "text": [
      "Median - 418000.0\n"
     ]
    }
   ],
   "source": [
    "print(\"Median - \" + str(data.property_value.median()))"
   ]
  },
  {
   "cell_type": "code",
   "execution_count": 19,
   "id": "87192ee9",
   "metadata": {},
   "outputs": [],
   "source": [
    "data.property_value.fillna(data.property_value.median(), inplace=True)"
   ]
  },
  {
   "cell_type": "code",
   "execution_count": 20,
   "id": "74fb98da",
   "metadata": {},
   "outputs": [
    {
     "name": "stdout",
     "output_type": "stream",
     "text": [
      "Mean - 6957.394371245466\n"
     ]
    }
   ],
   "source": [
    "print(\"Mean - \" + str(data.income.mean()))"
   ]
  },
  {
   "cell_type": "code",
   "execution_count": 21,
   "id": "fc12703f",
   "metadata": {},
   "outputs": [],
   "source": [
    "data.income.fillna(data.income.mean(), inplace=True)"
   ]
  },
  {
   "cell_type": "code",
   "execution_count": 22,
   "id": "df82fdc2",
   "metadata": {},
   "outputs": [
    {
     "name": "stdout",
     "output_type": "stream",
     "text": [
      "Mode - 45-54\n"
     ]
    }
   ],
   "source": [
    "print(\"Mode - \" + str(data.age.mode()[0]))"
   ]
  },
  {
   "cell_type": "code",
   "execution_count": 23,
   "id": "ce222f4c",
   "metadata": {},
   "outputs": [],
   "source": [
    "data.age.fillna(data.age.mode()[0], inplace=True)"
   ]
  },
  {
   "cell_type": "code",
   "execution_count": 24,
   "id": "efec8368",
   "metadata": {},
   "outputs": [
    {
     "name": "stdout",
     "output_type": "stream",
     "text": [
      "Median - 39.0\n"
     ]
    }
   ],
   "source": [
    "print(\"Median - \" + str(data.dtir1.median()))"
   ]
  },
  {
   "cell_type": "code",
   "execution_count": 25,
   "id": "c859cd1d",
   "metadata": {},
   "outputs": [],
   "source": [
    "data.dtir1.fillna(data.dtir1.median(), inplace=True)"
   ]
  },
  {
   "cell_type": "code",
   "execution_count": 26,
   "id": "e99e3587",
   "metadata": {},
   "outputs": [],
   "source": [
    "data.LTV.median()\n",
    "data.LTV.fillna(data.LTV.median(), inplace=True)"
   ]
  },
  {
   "cell_type": "code",
   "execution_count": 27,
   "id": "d4ba2be5",
   "metadata": {},
   "outputs": [
    {
     "data": {
      "text/plain": [
       "ID                        0.00\n",
       "Gender                    0.00\n",
       "loan_purpose              0.00\n",
       "Credit_Worthiness         0.00\n",
       "business_or_commercial    0.00\n",
       "loan_amount               0.00\n",
       "rate_of_interest          0.00\n",
       "term                      0.03\n",
       "Neg_ammortization         0.08\n",
       "lump_sum_payment          0.00\n",
       "property_value            0.00\n",
       "Secured_by                0.00\n",
       "total_units               0.00\n",
       "income                    0.00\n",
       "credit_type               0.00\n",
       "Credit_Score              0.00\n",
       "age                       0.00\n",
       "LTV                       0.00\n",
       "Region                    0.00\n",
       "Security_Type             0.00\n",
       "Status                    0.00\n",
       "dtir1                     0.00\n",
       "dtype: float64"
      ]
     },
     "execution_count": 27,
     "metadata": {},
     "output_type": "execute_result"
    }
   ],
   "source": [
    "round(data.isnull().sum() / data.shape[0] * 100.00,2)"
   ]
  },
  {
   "cell_type": "markdown",
   "id": "201c828d",
   "metadata": {},
   "source": [
    "**Now that we have filled up most of our missing values, we can move on with our analysis.**"
   ]
  },
  {
   "cell_type": "markdown",
   "id": "60e9c01d",
   "metadata": {},
   "source": [
    "**To understand which region has most number of people applying for loans, we visualise it through a pie chart. \n",
    "The pie chart gives a brief overview of the distribution of the customers throughout the north, south, central and north-eastern regions.**"
   ]
  },
  {
   "cell_type": "code",
   "execution_count": 28,
   "id": "eb4589e2",
   "metadata": {},
   "outputs": [
    {
     "data": {
      "image/png": "[encoded data removed]",
      "text/plain": [
       "<Figure size 432x288 with 1 Axes>"
      ]
     },
     "metadata": {},
     "output_type": "display_data"
    }
   ],
   "source": [
    "#pie chart\n",
    "\n",
    "newregiondata = data['Region'].value_counts().rename_axis('Regions').reset_index(name='Counts') #getting regions and counts\n",
    "\n",
    "mylabels=newregiondata.Regions #assigning labels and values for plotting pie chart\n",
    "myvalues=newregiondata.Counts\n",
    "colors = [\"#1f77b4\", \"#ff7f0e\", \"#2ca02c\", \"#d62728\"] #defining colors\n",
    "plt.pie(myvalues, labels=mylabels, explode = (0, 0, 0, 0.05), colors=colors, startangle=150, radius = 2, autopct = '%2.2f%%')\n",
    "plt.title(\"Distribution of people who have taken a loan based on region\\n\\n\\n\\n\\n\\n\") #title\n",
    "plt.legend(loc='lower right') #legend\n",
    "\n",
    "plt.show() #show chart"
   ]
  },
  {
   "cell_type": "markdown",
   "id": "85fded58",
   "metadata": {},
   "source": [
    "**From the pie chart, we can conclude that 50% of the people from the dataset belong to the northern region. South has 43%. Northern and Southern regions are the ones with the maximum number of borrowers.**"
   ]
  },
  {
   "cell_type": "markdown",
   "id": "a9c792dd",
   "metadata": {},
   "source": [
    "**We will now try to understand if the age and gender of the customer play a role in the amount of loan approved. We will analyse this through a boxplot, to understand how the age values in the dataset are spread out.**"
   ]
  },
  {
   "cell_type": "markdown",
   "id": "56a45365",
   "metadata": {},
   "source": [
    "Box Plot"
   ]
  },
  {
   "cell_type": "code",
   "execution_count": 29,
   "id": "1aa37159",
   "metadata": {},
   "outputs": [
    {
     "data": {
      "image/png": "[encoded data removed]",
      "text/plain": [
       "<Figure size 1152x576 with 1 Axes>"
      ]
     },
     "metadata": {
      "needs_background": "light"
     },
     "output_type": "display_data"
    }
   ],
   "source": [
    "ax = plt.figure(figsize=(16,8)) #adjusting the size of the figure\n",
    "ax=sns.boxplot(data=data, x = data['age'], y = data['loan_amount'],hue='Gender') # calling the box plot function by passing x and y axis from the dataset\n",
    "ax.set(ylim=(0,3600000)) #setting the y-axis range\n",
    "plt.title('Age vs Loan Amount')  #defining the tile\n",
    "plt.xlabel('Age Groups') #Giving the  name of X-axis\n",
    "plt.ylabel('Loan Amount') #Giving the  name of y-axis\n",
    "plt.show()"
   ]
  },
  {
   "cell_type": "markdown",
   "id": "087b820e",
   "metadata": {},
   "source": [
    "**The boxplot above is difficult to understand and does not give much information because of the huge number of outliers. To avoid this challenge, we will ignore the outliers and set a limit to the boxplot.**"
   ]
  },
  {
   "cell_type": "code",
   "execution_count": 30,
   "id": "04ccabcd",
   "metadata": {},
   "outputs": [
    {
     "data": {
      "image/png": "[encoded data removed]",
      "text/plain": [
       "<Figure size 1152x576 with 1 Axes>"
      ]
     },
     "metadata": {
      "needs_background": "light"
     },
     "output_type": "display_data"
    }
   ],
   "source": [
    "ax = plt.figure(figsize=(16,8)) #adjusting the size of the figure\n",
    "ax=sns.boxplot(data=data, x = data['age'], y = data['loan_amount'],hue='Gender') # calling the box plot function by passing x and y axis from the dataset columns\n",
    "ax.set(ylim=(0,600000)) #setting the y-axis range\n",
    "plt.title('Age vs Loan Amount') #defining the tile\n",
    "plt.xlabel('Age Groups') #Giving the  name of X-axis\n",
    "plt.ylabel('Loan Amount') #Giving the name of y axis\n",
    "plt.show()"
   ]
  },
  {
   "cell_type": "markdown",
   "id": "3838b9d9",
   "metadata": {},
   "source": [
    "**Apart from Male and Female, the Gender column has a \"Joint\" value as well. The \"Joint\" signifies a \"Joint\" account and can be a male-male, female-male, female-female account. The \"Sex Not Available\" values in the Gender column can be treated as missing values. We can replace it with the mode of the Gender column and see if it makes any changes to our boxplot.**"
   ]
  },
  {
   "cell_type": "code",
   "execution_count": 31,
   "id": "9706c970",
   "metadata": {},
   "outputs": [
    {
     "name": "stdout",
     "output_type": "stream",
     "text": [
      "0         Female\n",
      "1           Male\n",
      "2          Joint\n",
      "3          Joint\n",
      "4           Male\n",
      "           ...  \n",
      "148642      Male\n",
      "148643      Male\n",
      "148644      Male\n",
      "148645    Female\n",
      "148646    Female\n",
      "Name: Gender, Length: 148647, dtype: object\n"
     ]
    }
   ],
   "source": [
    "'''Replacing Gender column's missing values(Sex Not Available fields) with its mode value which is Male'''\n",
    "\n",
    "data['Gender'] = data['Gender'].replace({'Sex Not Available': 'Male'})\n",
    "print(data['Gender'])"
   ]
  },
  {
   "cell_type": "code",
   "execution_count": 32,
   "id": "ce04b7ba",
   "metadata": {},
   "outputs": [
    {
     "data": {
      "image/png": "[encoded data removed]",
      "text/plain": [
       "<Figure size 1152x576 with 1 Axes>"
      ]
     },
     "metadata": {
      "needs_background": "light"
     },
     "output_type": "display_data"
    }
   ],
   "source": [
    "ax = plt.figure(figsize=(16,8)) #adjusting the size of the figure\n",
    "ax=sns.boxplot(data=data, x = data['age'], y = data['loan_amount'],hue='Gender') # calling the box plot function by passing x and y axis from the dataset\n",
    "ax.set(ylim=(0,600000)) #setting the y-axis range\n",
    "plt.title('Age vs Loan Amount - Without Missing Values') #defining the tile\n",
    "plt.xlabel('Age Groups') #Giving the  name of X-axis\n",
    "plt.ylabel('Loan Amount') #Giving the  name of Y-axis\n",
    "plt.show()"
   ]
  },
  {
   "cell_type": "markdown",
   "id": "5d9686b9",
   "metadata": {},
   "source": [
    "**From the boxplot we can infer that the age groups 25-54 have a higher probability of getting approvals for loans with higher values. It can be seen that males are leading in all age groups, but since the dataset does not clarify what \"joint\" is and gives more background information about the customers, we will have to work forward based on our assumptions.**"
   ]
  },
  {
   "cell_type": "code",
   "execution_count": 33,
   "id": "540846f9",
   "metadata": {},
   "outputs": [
    {
     "name": "stdout",
     "output_type": "stream",
     "text": [
      "['p3' 'p1' 'p4' 'p2']\n"
     ]
    }
   ],
   "source": [
    "print(data['loan_purpose'].unique())"
   ]
  },
  {
   "cell_type": "markdown",
   "id": "497ca429",
   "metadata": {},
   "source": [
    "**The dataset provides 4 loan purposes: p1, p2, p3, p4. It does not give more details on what the purpose is specifically. Sometimes, the purpose of the loan can also influence the amount santioned. We will now try to check which is the loan purpose with the highest loan amount.**"
   ]
  },
  {
   "cell_type": "code",
   "execution_count": 34,
   "id": "37f0345d",
   "metadata": {},
   "outputs": [
    {
     "data": {
      "image/png": "[encoded data removed]",
      "text/plain": [
       "<Figure size 1008x504 with 1 Axes>"
      ]
     },
     "metadata": {
      "needs_background": "light"
     },
     "output_type": "display_data"
    }
   ],
   "source": [
    "ax = plt.figure(figsize=(14,7)) #adjusting the size of the figure\n",
    "ax = sns.lineplot(x=\"loan_purpose\", y=\"loan_amount\",data=data) # calling the line graph function by passing x and y axis from the dataset\n",
    "ax.set_ylim(0,400000) #setting the y-axis range\n",
    "plt.title('Purpose Vs Loan Amount') #defining the tile\n",
    "plt.xlabel('Loan Purpose') #Giving the  name of X-axis\n",
    "plt.ylabel('Loan Amount') #Giving the  name of Y-axis\n",
    "plt.show()"
   ]
  },
  {
   "cell_type": "markdown",
   "id": "a149a455",
   "metadata": {},
   "source": [
    "**Loan purpose p4 has the highest loan amount, followed by p1, then p3 and lastly p2. We require more information to reach further conclusions.**"
   ]
  },
  {
   "cell_type": "markdown",
   "id": "12e486fe",
   "metadata": {},
   "source": [
    "**In our dataset, we have information on whether the loan application was made for business or commercial purposes.Using that, we can try to understand the impact of purpose on loan amount sanctioned better.**"
   ]
  },
  {
   "cell_type": "markdown",
   "id": "bcd52a34",
   "metadata": {},
   "source": [
    "Bar Chart"
   ]
  },
  {
   "cell_type": "code",
   "execution_count": 36,
   "id": "dbcc5fe0",
   "metadata": {},
   "outputs": [
    {
     "data": {
      "image/png": "[encoded data removed]",
      "text/plain": [
       "<Figure size 864x432 with 1 Axes>"
      ]
     },
     "metadata": {
      "needs_background": "light"
     },
     "output_type": "display_data"
    }
   ],
   "source": [
    "fig = plt.subplots(figsize=(12,6))  #figure size\n",
    "plt.title(\"Loan Amount to Loan Purpose\") #barchart title\n",
    "\n",
    "sns.barplot(x = 'loan_purpose',    #setting x and y axis parameters\n",
    "            y = 'loan_amount',\n",
    "            hue = 'business_or_commercial',\n",
    "            data = data)\n",
    " \n",
    "# Show the plot\n",
    "plt.show()"
   ]
  },
  {
   "cell_type": "markdown",
   "id": "0c701d3d",
   "metadata": {},
   "source": [
    "**We can see that loans for business or commercial purposes are the ones with comparatively lower amounts.**"
   ]
  },
  {
   "cell_type": "markdown",
   "id": "f706ef89",
   "metadata": {},
   "source": [
    "**The next factor provided in the dataset is dtir. Dtir is the debt-to-income ratio which tells the bank or loan provider about your current debt status. It is one of the most important factors loan providers consider while approving loans.**"
   ]
  },
  {
   "cell_type": "markdown",
   "id": "6acdb08b",
   "metadata": {},
   "source": [
    "Bar Chart - 2"
   ]
  },
  {
   "cell_type": "code",
   "execution_count": 42,
   "id": "417a23e2",
   "metadata": {},
   "outputs": [
    {
     "data": {
      "image/png": "[encoded data removed]",
      "text/plain": [
       "<Figure size 864x432 with 1 Axes>"
      ]
     },
     "metadata": {
      "needs_background": "light"
     },
     "output_type": "display_data"
    }
   ],
   "source": [
    "fig = plt.subplots(figsize=(12,6))  #figure size\n",
    "plt.title(\"Property value to region\") #barchart title\n",
    "\n",
    "sns.barplot(x = 'Region',    #setting x and y axis parameters\n",
    "            y = 'property_value',\n",
    "            hue = 'Secured_by',\n",
    "            data = data)\n",
    " \n",
    "# Show the plot\n",
    "plt.show()"
   ]
  },
  {
   "cell_type": "markdown",
   "id": "1b5514ea",
   "metadata": {},
   "source": [
    "**Having a collateral also plays an important role. The value and type of collateral can also determine the loan value. We will view the property value distribution and type of collateral based on region provided in the dataset through barcharts.**"
   ]
  },
  {
   "cell_type": "markdown",
   "id": "f78ade95",
   "metadata": {},
   "source": [
    "**We can observe that mostly home is used as collateral. The property value is higher in the northern and southern regions thus inferring that higher loan amounts can be approved depending on other factors.**"
   ]
  },
  {
   "cell_type": "markdown",
   "id": "93142185",
   "metadata": {},
   "source": [
    "Histogram"
   ]
  },
  {
   "cell_type": "code",
   "execution_count": 37,
   "id": "cc4b9bef",
   "metadata": {},
   "outputs": [
    {
     "data": {
      "image/png": "[encoded data removed]",
      "text/plain": [
       "<Figure size 1008x432 with 1 Axes>"
      ]
     },
     "metadata": {
      "needs_background": "light"
     },
     "output_type": "display_data"
    }
   ],
   "source": [
    "txt_color1 = '#252525'\n",
    "txt_color2 = '#004C74'\n",
    "\n",
    "fig, ax = plt.subplots(1,figsize=(14,6))\n",
    "n, bins, patches = plt.hist(data.dtir1)\n",
    "\n",
    "# x ticks\n",
    "xticks = [(bins[idx+1] + value)/2 for idx, value in enumerate(bins[:-1])]\n",
    "xticks_labels = [ \"{:.2f}\\nto\\n{:.2f}\".format(value, bins[idx+1]) for idx, value in enumerate(bins[:-1])]\n",
    "plt.xticks(xticks, labels = xticks_labels)\n",
    "\n",
    "\n",
    "# remove major and minor ticks from the x axis, but keep the labels\n",
    "ax.tick_params(axis='x', which='both',length=0)\n",
    "# Hide the right and top spines\n",
    "ax.spines['bottom'].set_visible(False)\n",
    "ax.spines['left'].set_visible(False)\n",
    "ax.spines['right'].set_visible(False)\n",
    "ax.spines['top'].set_visible(False)\n",
    "\n",
    "plt.title('Histogram of DTIR values\\n', loc = 'left', fontsize = 20, c=txt_color1)\n",
    "plt.xlabel('\\nDTIR Range', c=txt_color2, fontsize=14)\n",
    "plt.ylabel('Number of Customers', c=txt_color2, fontsize=14)\n",
    "\n",
    "plt.show()"
   ]
  },
  {
   "cell_type": "markdown",
   "id": "7153a881",
   "metadata": {},
   "source": [
    "**The above histogram provides the frequency of DTIR range values. 43% and below is considered as a good dtir. It can be observed that more than 50% of the dataset has a dtir below 43%.**"
   ]
  },
  {
   "cell_type": "markdown",
   "id": "2d45d723",
   "metadata": {},
   "source": [
    "**Next, we will consider the role income plays in the amount of loan. We will visualize this through a scatter plot to show distribution of income and loan amount.**"
   ]
  },
  {
   "cell_type": "markdown",
   "id": "798e0cd0",
   "metadata": {},
   "source": [
    "Scatter Plot"
   ]
  },
  {
   "cell_type": "code",
   "execution_count": 40,
   "id": "81040552",
   "metadata": {},
   "outputs": [
    {
     "data": {
      "image/png": "[encoded data removed]",
      "text/plain": [
       "<Figure size 1296x720 with 1 Axes>"
      ]
     },
     "metadata": {
      "needs_background": "light"
     },
     "output_type": "display_data"
    }
   ],
   "source": [
    "# x-axis values\n",
    "inc = data['income']\n",
    "inc=inc/1000 #scaling the income values\n",
    "\n",
    "# y-axis values\n",
    "amount= data['loan_amount']\n",
    "amount=amount/100 #scaling the amount values\n",
    "\n",
    "# plotting points as a scatter plot\n",
    "plt.figure(figsize=(18,10)) #resizing the scatterplot\n",
    "plt.scatter(inc, amount, color= '#ff9c00')\n",
    "\n",
    "plt.xticks( range(0,600,15) )   # Put x axis ticks every 15 units.\n",
    "plt.yticks( range(0,40000,2000) )  # Y ticks every 200 units.\n",
    "\n",
    "# x-axis label\n",
    "plt.xlabel('Income x1000')\n",
    "# frequency label\n",
    "plt.ylabel('Loan amount (in \\$\\$) x100', color='red')\n",
    "# plot title\n",
    "plt.title('Income vs Loan Amount', color='red')\n",
    "plt.grid(True) #displays a grid\n",
    "\n",
    "# function to show the plot\n",
    "plt.show()"
   ]
  },
  {
   "cell_type": "markdown",
   "id": "c32fadd3",
   "metadata": {},
   "source": [
    "**From the above scatter plot, we can infer that - the cluster is in between 0 to 90000 and hence we can conclude that as the income increases, the loan amount is decreased which mean that the number of people who took the loan dimiishes with increasing income.**"
   ]
  },
  {
   "cell_type": "code",
   "execution_count": 43,
   "id": "fe3608b6",
   "metadata": {},
   "outputs": [
    {
     "data": {
      "text/plain": [
       "500"
      ]
     },
     "execution_count": 43,
     "metadata": {},
     "output_type": "execute_result"
    }
   ],
   "source": [
    "data.Credit_Score.min()"
   ]
  },
  {
   "cell_type": "markdown",
   "id": "69ee0b49",
   "metadata": {},
   "source": [
    "**The loan amount to property value relationship is given below using a scatterplot.**"
   ]
  },
  {
   "cell_type": "code",
   "execution_count": 44,
   "id": "7921e247",
   "metadata": {},
   "outputs": [
    {
     "data": {
      "text/plain": [
       "900"
      ]
     },
     "execution_count": 44,
     "metadata": {},
     "output_type": "execute_result"
    }
   ],
   "source": [
    "data.Credit_Score.max()"
   ]
  },
  {
   "cell_type": "markdown",
   "id": "01fed897",
   "metadata": {},
   "source": [
    "**One extremely important factor for loan approvals is the credit score. The credit score ranges from 500-900 in the dataset. Higher the credit score, higher the chances of getting a loan approved, provided other factors add up.The credit score distribution of customers belonging to different age groups can be studied using heatmaps.**"
   ]
  },
  {
   "cell_type": "code",
   "execution_count": 45,
   "id": "fe6be8b9",
   "metadata": {},
   "outputs": [
    {
     "data": {
      "image/png": "[encoded data removed]",
      "text/plain": [
       "<Figure size 864x576 with 2 Axes>"
      ]
     },
     "metadata": {},
     "output_type": "display_data"
    }
   ],
   "source": [
    "data_heatmap = data.pivot_table(values = \"Credit_Score\", index = 'credit_type', columns = \"age\")\n",
    "\n",
    "sns.set(rc = {'figure.figsize':(12,8)})\n",
    "sns.heatmap(data_heatmap, annot = False)\n",
    "plt.show()"
   ]
  },
  {
   "cell_type": "markdown",
   "id": "b49fb5fc",
   "metadata": {},
   "source": [
    "**It can be observed that younger age group customers tend to have better credit scores. Not much background is given about the employment or other credit history of the customer in the dataset, thus limiting our findings to credit score only.**"
   ]
  },
  {
   "cell_type": "markdown",
   "id": "39f2b041",
   "metadata": {},
   "source": [
    "# **The below visualizations depict without imputations.**"
   ]
  },
  {
   "cell_type": "markdown",
   "id": "f46ebac6",
   "metadata": {},
   "source": [
    "Reading the dataset again and storing it as new object"
   ]
  },
  {
   "cell_type": "code",
   "execution_count": 101,
   "id": "f3cd4fd9",
   "metadata": {},
   "outputs": [
    {
     "name": "stdout",
     "output_type": "stream",
     "text": [
      "            ID  year loan_limit             Gender approv_in_adv loan_purpose  \\\n",
      "0        24913  2019         cf             Female         nopre           p3   \n",
      "1        24914  2019         cf               Male         nopre           p3   \n",
      "2        24915  2019        NaN              Joint         nopre           p3   \n",
      "3        24916  2019         cf              Joint         nopre           p1   \n",
      "4        24917  2019         cf  Sex Not Available         nopre           p4   \n",
      "...        ...   ...        ...                ...           ...          ...   \n",
      "148642  173555  2019         cf  Sex Not Available         nopre           p3   \n",
      "148643  173556  2019         cf               Male         nopre           p1   \n",
      "148644  173557  2019         cf               Male         nopre           p4   \n",
      "148645  173558  2019         cf             Female         nopre           p4   \n",
      "148646  173559  2019         cf             Female         nopre           p3   \n",
      "\n",
      "       Credit_Worthiness open_credit business_or_commercial  loan_amount  ...  \\\n",
      "0                     l1        nopc                  nob/c       316500  ...   \n",
      "1                     l2        nopc                  nob/c       336500  ...   \n",
      "2                     l1        nopc                  nob/c       426500  ...   \n",
      "3                     l1        nopc                  nob/c       476500  ...   \n",
      "4                     l1        nopc                  nob/c       196500  ...   \n",
      "...                  ...         ...                    ...          ...  ...   \n",
      "148642                l1        nopc                  nob/c       436500  ...   \n",
      "148643                l1        nopc                  nob/c       586500  ...   \n",
      "148644                l1        nopc                  nob/c       446500  ...   \n",
      "148645                l1        nopc                  nob/c       196500  ...   \n",
      "148646                l1        nopc                  nob/c       406500  ...   \n",
      "\n",
      "        income  credit_type  Credit_Score  co-applicant_credit_type    age  \\\n",
      "0       2760.0          CIB           620                       CIB  65-74   \n",
      "1       4980.0          CIB           846                       CIB  35-44   \n",
      "2       8940.0          EXP           533                       EXP  45-54   \n",
      "3       6780.0         EQUI           518                       EXP  45-54   \n",
      "4       3840.0          EXP           812                       EXP  25-34   \n",
      "...        ...          ...           ...                       ...    ...   \n",
      "148642  7860.0          CIB           659                       EXP  55-64   \n",
      "148643  7140.0          CIB           569                       CIB  25-34   \n",
      "148644  6900.0          CIB           702                       EXP  45-54   \n",
      "148645  7140.0          EXP           737                       EXP  55-64   \n",
      "148646  7260.0          CIB           830                       CIB  45-54   \n",
      "\n",
      "              LTV Region  Security_Type Status dtir1  \n",
      "0       62.303150  south         direct      0  44.0  \n",
      "1       78.621495  south         direct      0  35.0  \n",
      "2       75.088028  North         direct      0  34.0  \n",
      "3             NaN  south         direct      1   NaN  \n",
      "4       76.162791  south         direct      0  49.0  \n",
      "...           ...    ...            ...    ...   ...  \n",
      "148642  71.792763  south         direct      0  48.0  \n",
      "148643  74.428934  south         direct      0  15.0  \n",
      "148644  61.332418  North         direct      0  49.0  \n",
      "148645  70.683453  North         direct      0  29.0  \n",
      "148646  72.849462  North         direct      0  44.0  \n",
      "\n",
      "[148647 rows x 30 columns]\n"
     ]
    }
   ],
   "source": [
    "'''Loading the dataset to perform further steps'''\n",
    "data1 =pd.read_csv(\"Loan.csv\")\n",
    "print(data1)"
   ]
  },
  {
   "cell_type": "markdown",
   "id": "506f61ba",
   "metadata": {},
   "source": [
    "##Deleting all the unnecessary columns##"
   ]
  },
  {
   "cell_type": "code",
   "execution_count": 102,
   "id": "f7b83158",
   "metadata": {},
   "outputs": [
    {
     "data": {
      "text/html": [
       "<div>\n",
       "<style scoped>\n",
       "    .dataframe tbody tr th:only-of-type {\n",
       "        vertical-align: middle;\n",
       "    }\n",
       "\n",
       "    .dataframe tbody tr th {\n",
       "        vertical-align: top;\n",
       "    }\n",
       "\n",
       "    .dataframe thead th {\n",
       "        text-align: right;\n",
       "    }\n",
       "</style>\n",
       "<table border=\"1\" class=\"dataframe\">\n",
       "  <thead>\n",
       "    <tr style=\"text-align: right;\">\n",
       "      <th></th>\n",
       "      <th>ID</th>\n",
       "      <th>Gender</th>\n",
       "      <th>approv_in_adv</th>\n",
       "      <th>loan_purpose</th>\n",
       "      <th>Credit_Worthiness</th>\n",
       "      <th>business_or_commercial</th>\n",
       "      <th>loan_amount</th>\n",
       "      <th>rate_of_interest</th>\n",
       "      <th>term</th>\n",
       "      <th>Neg_ammortization</th>\n",
       "      <th>...</th>\n",
       "      <th>total_units</th>\n",
       "      <th>income</th>\n",
       "      <th>credit_type</th>\n",
       "      <th>Credit_Score</th>\n",
       "      <th>age</th>\n",
       "      <th>LTV</th>\n",
       "      <th>Region</th>\n",
       "      <th>Security_Type</th>\n",
       "      <th>Status</th>\n",
       "      <th>dtir1</th>\n",
       "    </tr>\n",
       "  </thead>\n",
       "  <tbody>\n",
       "    <tr>\n",
       "      <th>0</th>\n",
       "      <td>24913</td>\n",
       "      <td>Female</td>\n",
       "      <td>nopre</td>\n",
       "      <td>p3</td>\n",
       "      <td>l1</td>\n",
       "      <td>nob/c</td>\n",
       "      <td>316500</td>\n",
       "      <td>3.625</td>\n",
       "      <td>360.0</td>\n",
       "      <td>not_neg</td>\n",
       "      <td>...</td>\n",
       "      <td>1U</td>\n",
       "      <td>2760.0</td>\n",
       "      <td>CIB</td>\n",
       "      <td>620</td>\n",
       "      <td>65-74</td>\n",
       "      <td>62.303150</td>\n",
       "      <td>south</td>\n",
       "      <td>direct</td>\n",
       "      <td>0</td>\n",
       "      <td>44.0</td>\n",
       "    </tr>\n",
       "    <tr>\n",
       "      <th>1</th>\n",
       "      <td>24914</td>\n",
       "      <td>Male</td>\n",
       "      <td>nopre</td>\n",
       "      <td>p3</td>\n",
       "      <td>l2</td>\n",
       "      <td>nob/c</td>\n",
       "      <td>336500</td>\n",
       "      <td>4.500</td>\n",
       "      <td>360.0</td>\n",
       "      <td>not_neg</td>\n",
       "      <td>...</td>\n",
       "      <td>1U</td>\n",
       "      <td>4980.0</td>\n",
       "      <td>CIB</td>\n",
       "      <td>846</td>\n",
       "      <td>35-44</td>\n",
       "      <td>78.621495</td>\n",
       "      <td>south</td>\n",
       "      <td>direct</td>\n",
       "      <td>0</td>\n",
       "      <td>35.0</td>\n",
       "    </tr>\n",
       "    <tr>\n",
       "      <th>2</th>\n",
       "      <td>24915</td>\n",
       "      <td>Joint</td>\n",
       "      <td>nopre</td>\n",
       "      <td>p3</td>\n",
       "      <td>l1</td>\n",
       "      <td>nob/c</td>\n",
       "      <td>426500</td>\n",
       "      <td>4.990</td>\n",
       "      <td>360.0</td>\n",
       "      <td>not_neg</td>\n",
       "      <td>...</td>\n",
       "      <td>1U</td>\n",
       "      <td>8940.0</td>\n",
       "      <td>EXP</td>\n",
       "      <td>533</td>\n",
       "      <td>45-54</td>\n",
       "      <td>75.088028</td>\n",
       "      <td>North</td>\n",
       "      <td>direct</td>\n",
       "      <td>0</td>\n",
       "      <td>34.0</td>\n",
       "    </tr>\n",
       "    <tr>\n",
       "      <th>3</th>\n",
       "      <td>24916</td>\n",
       "      <td>Joint</td>\n",
       "      <td>nopre</td>\n",
       "      <td>p1</td>\n",
       "      <td>l1</td>\n",
       "      <td>nob/c</td>\n",
       "      <td>476500</td>\n",
       "      <td>NaN</td>\n",
       "      <td>360.0</td>\n",
       "      <td>not_neg</td>\n",
       "      <td>...</td>\n",
       "      <td>1U</td>\n",
       "      <td>6780.0</td>\n",
       "      <td>EQUI</td>\n",
       "      <td>518</td>\n",
       "      <td>45-54</td>\n",
       "      <td>NaN</td>\n",
       "      <td>south</td>\n",
       "      <td>direct</td>\n",
       "      <td>1</td>\n",
       "      <td>NaN</td>\n",
       "    </tr>\n",
       "    <tr>\n",
       "      <th>4</th>\n",
       "      <td>24917</td>\n",
       "      <td>Sex Not Available</td>\n",
       "      <td>nopre</td>\n",
       "      <td>p4</td>\n",
       "      <td>l1</td>\n",
       "      <td>nob/c</td>\n",
       "      <td>196500</td>\n",
       "      <td>5.250</td>\n",
       "      <td>360.0</td>\n",
       "      <td>not_neg</td>\n",
       "      <td>...</td>\n",
       "      <td>1U</td>\n",
       "      <td>3840.0</td>\n",
       "      <td>EXP</td>\n",
       "      <td>812</td>\n",
       "      <td>25-34</td>\n",
       "      <td>76.162791</td>\n",
       "      <td>south</td>\n",
       "      <td>direct</td>\n",
       "      <td>0</td>\n",
       "      <td>49.0</td>\n",
       "    </tr>\n",
       "    <tr>\n",
       "      <th>...</th>\n",
       "      <td>...</td>\n",
       "      <td>...</td>\n",
       "      <td>...</td>\n",
       "      <td>...</td>\n",
       "      <td>...</td>\n",
       "      <td>...</td>\n",
       "      <td>...</td>\n",
       "      <td>...</td>\n",
       "      <td>...</td>\n",
       "      <td>...</td>\n",
       "      <td>...</td>\n",
       "      <td>...</td>\n",
       "      <td>...</td>\n",
       "      <td>...</td>\n",
       "      <td>...</td>\n",
       "      <td>...</td>\n",
       "      <td>...</td>\n",
       "      <td>...</td>\n",
       "      <td>...</td>\n",
       "      <td>...</td>\n",
       "      <td>...</td>\n",
       "    </tr>\n",
       "    <tr>\n",
       "      <th>148642</th>\n",
       "      <td>173555</td>\n",
       "      <td>Sex Not Available</td>\n",
       "      <td>nopre</td>\n",
       "      <td>p3</td>\n",
       "      <td>l1</td>\n",
       "      <td>nob/c</td>\n",
       "      <td>436500</td>\n",
       "      <td>3.125</td>\n",
       "      <td>180.0</td>\n",
       "      <td>not_neg</td>\n",
       "      <td>...</td>\n",
       "      <td>1U</td>\n",
       "      <td>7860.0</td>\n",
       "      <td>CIB</td>\n",
       "      <td>659</td>\n",
       "      <td>55-64</td>\n",
       "      <td>71.792763</td>\n",
       "      <td>south</td>\n",
       "      <td>direct</td>\n",
       "      <td>0</td>\n",
       "      <td>48.0</td>\n",
       "    </tr>\n",
       "    <tr>\n",
       "      <th>148643</th>\n",
       "      <td>173556</td>\n",
       "      <td>Male</td>\n",
       "      <td>nopre</td>\n",
       "      <td>p1</td>\n",
       "      <td>l1</td>\n",
       "      <td>nob/c</td>\n",
       "      <td>586500</td>\n",
       "      <td>5.190</td>\n",
       "      <td>360.0</td>\n",
       "      <td>not_neg</td>\n",
       "      <td>...</td>\n",
       "      <td>4U</td>\n",
       "      <td>7140.0</td>\n",
       "      <td>CIB</td>\n",
       "      <td>569</td>\n",
       "      <td>25-34</td>\n",
       "      <td>74.428934</td>\n",
       "      <td>south</td>\n",
       "      <td>direct</td>\n",
       "      <td>0</td>\n",
       "      <td>15.0</td>\n",
       "    </tr>\n",
       "    <tr>\n",
       "      <th>148644</th>\n",
       "      <td>173557</td>\n",
       "      <td>Male</td>\n",
       "      <td>nopre</td>\n",
       "      <td>p4</td>\n",
       "      <td>l1</td>\n",
       "      <td>nob/c</td>\n",
       "      <td>446500</td>\n",
       "      <td>3.125</td>\n",
       "      <td>180.0</td>\n",
       "      <td>not_neg</td>\n",
       "      <td>...</td>\n",
       "      <td>1U</td>\n",
       "      <td>6900.0</td>\n",
       "      <td>CIB</td>\n",
       "      <td>702</td>\n",
       "      <td>45-54</td>\n",
       "      <td>61.332418</td>\n",
       "      <td>North</td>\n",
       "      <td>direct</td>\n",
       "      <td>0</td>\n",
       "      <td>49.0</td>\n",
       "    </tr>\n",
       "    <tr>\n",
       "      <th>148645</th>\n",
       "      <td>173558</td>\n",
       "      <td>Female</td>\n",
       "      <td>nopre</td>\n",
       "      <td>p4</td>\n",
       "      <td>l1</td>\n",
       "      <td>nob/c</td>\n",
       "      <td>196500</td>\n",
       "      <td>3.500</td>\n",
       "      <td>180.0</td>\n",
       "      <td>not_neg</td>\n",
       "      <td>...</td>\n",
       "      <td>1U</td>\n",
       "      <td>7140.0</td>\n",
       "      <td>EXP</td>\n",
       "      <td>737</td>\n",
       "      <td>55-64</td>\n",
       "      <td>70.683453</td>\n",
       "      <td>North</td>\n",
       "      <td>direct</td>\n",
       "      <td>0</td>\n",
       "      <td>29.0</td>\n",
       "    </tr>\n",
       "    <tr>\n",
       "      <th>148646</th>\n",
       "      <td>173559</td>\n",
       "      <td>Female</td>\n",
       "      <td>nopre</td>\n",
       "      <td>p3</td>\n",
       "      <td>l1</td>\n",
       "      <td>nob/c</td>\n",
       "      <td>406500</td>\n",
       "      <td>4.375</td>\n",
       "      <td>240.0</td>\n",
       "      <td>not_neg</td>\n",
       "      <td>...</td>\n",
       "      <td>1U</td>\n",
       "      <td>7260.0</td>\n",
       "      <td>CIB</td>\n",
       "      <td>830</td>\n",
       "      <td>45-54</td>\n",
       "      <td>72.849462</td>\n",
       "      <td>North</td>\n",
       "      <td>direct</td>\n",
       "      <td>0</td>\n",
       "      <td>44.0</td>\n",
       "    </tr>\n",
       "  </tbody>\n",
       "</table>\n",
       "<p>148647 rows × 23 columns</p>\n",
       "</div>"
      ],
      "text/plain": [
       "            ID             Gender approv_in_adv loan_purpose  \\\n",
       "0        24913             Female         nopre           p3   \n",
       "1        24914               Male         nopre           p3   \n",
       "2        24915              Joint         nopre           p3   \n",
       "3        24916              Joint         nopre           p1   \n",
       "4        24917  Sex Not Available         nopre           p4   \n",
       "...        ...                ...           ...          ...   \n",
       "148642  173555  Sex Not Available         nopre           p3   \n",
       "148643  173556               Male         nopre           p1   \n",
       "148644  173557               Male         nopre           p4   \n",
       "148645  173558             Female         nopre           p4   \n",
       "148646  173559             Female         nopre           p3   \n",
       "\n",
       "       Credit_Worthiness business_or_commercial  loan_amount  \\\n",
       "0                     l1                  nob/c       316500   \n",
       "1                     l2                  nob/c       336500   \n",
       "2                     l1                  nob/c       426500   \n",
       "3                     l1                  nob/c       476500   \n",
       "4                     l1                  nob/c       196500   \n",
       "...                  ...                    ...          ...   \n",
       "148642                l1                  nob/c       436500   \n",
       "148643                l1                  nob/c       586500   \n",
       "148644                l1                  nob/c       446500   \n",
       "148645                l1                  nob/c       196500   \n",
       "148646                l1                  nob/c       406500   \n",
       "\n",
       "        rate_of_interest   term Neg_ammortization  ... total_units  income  \\\n",
       "0                  3.625  360.0           not_neg  ...          1U  2760.0   \n",
       "1                  4.500  360.0           not_neg  ...          1U  4980.0   \n",
       "2                  4.990  360.0           not_neg  ...          1U  8940.0   \n",
       "3                    NaN  360.0           not_neg  ...          1U  6780.0   \n",
       "4                  5.250  360.0           not_neg  ...          1U  3840.0   \n",
       "...                  ...    ...               ...  ...         ...     ...   \n",
       "148642             3.125  180.0           not_neg  ...          1U  7860.0   \n",
       "148643             5.190  360.0           not_neg  ...          4U  7140.0   \n",
       "148644             3.125  180.0           not_neg  ...          1U  6900.0   \n",
       "148645             3.500  180.0           not_neg  ...          1U  7140.0   \n",
       "148646             4.375  240.0           not_neg  ...          1U  7260.0   \n",
       "\n",
       "       credit_type Credit_Score    age        LTV  Region Security_Type  \\\n",
       "0              CIB          620  65-74  62.303150   south        direct   \n",
       "1              CIB          846  35-44  78.621495   south        direct   \n",
       "2              EXP          533  45-54  75.088028   North        direct   \n",
       "3             EQUI          518  45-54        NaN   south        direct   \n",
       "4              EXP          812  25-34  76.162791   south        direct   \n",
       "...            ...          ...    ...        ...     ...           ...   \n",
       "148642         CIB          659  55-64  71.792763   south        direct   \n",
       "148643         CIB          569  25-34  74.428934   south        direct   \n",
       "148644         CIB          702  45-54  61.332418   North        direct   \n",
       "148645         EXP          737  55-64  70.683453   North        direct   \n",
       "148646         CIB          830  45-54  72.849462   North        direct   \n",
       "\n",
       "        Status dtir1  \n",
       "0            0  44.0  \n",
       "1            0  35.0  \n",
       "2            0  34.0  \n",
       "3            1   NaN  \n",
       "4            0  49.0  \n",
       "...        ...   ...  \n",
       "148642       0  48.0  \n",
       "148643       0  15.0  \n",
       "148644       0  49.0  \n",
       "148645       0  29.0  \n",
       "148646       0  44.0  \n",
       "\n",
       "[148647 rows x 23 columns]"
      ]
     },
     "execution_count": 102,
     "metadata": {},
     "output_type": "execute_result"
    }
   ],
   "source": [
    "'''using \"del\" to delete all the redundant columns'''\n",
    "\n",
    "del data1['year']\n",
    "del data1['loan_limit']\n",
    "del data1['Interest_rate_spread']\n",
    "del data1['interest_only']\n",
    "del data1['co-applicant_credit_type']\n",
    "del data1['open_credit']\n",
    "del data1['Upfront_charges']\n",
    "data1"
   ]
  },
  {
   "cell_type": "markdown",
   "id": "e7d2390b",
   "metadata": {},
   "source": [
    "**We are now taking all the numerical columns and filling the missing values using KNN Imputation**"
   ]
  },
  {
   "cell_type": "code",
   "execution_count": 103,
   "id": "323736b2",
   "metadata": {},
   "outputs": [
    {
     "data": {
      "text/html": [
       "<div>\n",
       "<style scoped>\n",
       "    .dataframe tbody tr th:only-of-type {\n",
       "        vertical-align: middle;\n",
       "    }\n",
       "\n",
       "    .dataframe tbody tr th {\n",
       "        vertical-align: top;\n",
       "    }\n",
       "\n",
       "    .dataframe thead th {\n",
       "        text-align: right;\n",
       "    }\n",
       "</style>\n",
       "<table border=\"1\" class=\"dataframe\">\n",
       "  <thead>\n",
       "    <tr style=\"text-align: right;\">\n",
       "      <th></th>\n",
       "      <th>property_value</th>\n",
       "      <th>rate_of_interest</th>\n",
       "      <th>income</th>\n",
       "      <th>dtir1</th>\n",
       "    </tr>\n",
       "  </thead>\n",
       "  <tbody>\n",
       "    <tr>\n",
       "      <th>0</th>\n",
       "      <td>508000.0</td>\n",
       "      <td>3.625</td>\n",
       "      <td>2760.0</td>\n",
       "      <td>44.0</td>\n",
       "    </tr>\n",
       "    <tr>\n",
       "      <th>1</th>\n",
       "      <td>428000.0</td>\n",
       "      <td>4.500</td>\n",
       "      <td>4980.0</td>\n",
       "      <td>35.0</td>\n",
       "    </tr>\n",
       "    <tr>\n",
       "      <th>2</th>\n",
       "      <td>568000.0</td>\n",
       "      <td>4.990</td>\n",
       "      <td>8940.0</td>\n",
       "      <td>34.0</td>\n",
       "    </tr>\n",
       "    <tr>\n",
       "      <th>3</th>\n",
       "      <td>418000.0</td>\n",
       "      <td>3.990</td>\n",
       "      <td>6780.0</td>\n",
       "      <td>39.0</td>\n",
       "    </tr>\n",
       "    <tr>\n",
       "      <th>4</th>\n",
       "      <td>258000.0</td>\n",
       "      <td>5.250</td>\n",
       "      <td>3840.0</td>\n",
       "      <td>49.0</td>\n",
       "    </tr>\n",
       "    <tr>\n",
       "      <th>...</th>\n",
       "      <td>...</td>\n",
       "      <td>...</td>\n",
       "      <td>...</td>\n",
       "      <td>...</td>\n",
       "    </tr>\n",
       "    <tr>\n",
       "      <th>148642</th>\n",
       "      <td>608000.0</td>\n",
       "      <td>3.125</td>\n",
       "      <td>7860.0</td>\n",
       "      <td>48.0</td>\n",
       "    </tr>\n",
       "    <tr>\n",
       "      <th>148643</th>\n",
       "      <td>788000.0</td>\n",
       "      <td>5.190</td>\n",
       "      <td>7140.0</td>\n",
       "      <td>15.0</td>\n",
       "    </tr>\n",
       "    <tr>\n",
       "      <th>148644</th>\n",
       "      <td>728000.0</td>\n",
       "      <td>3.125</td>\n",
       "      <td>6900.0</td>\n",
       "      <td>49.0</td>\n",
       "    </tr>\n",
       "    <tr>\n",
       "      <th>148645</th>\n",
       "      <td>278000.0</td>\n",
       "      <td>3.500</td>\n",
       "      <td>7140.0</td>\n",
       "      <td>29.0</td>\n",
       "    </tr>\n",
       "    <tr>\n",
       "      <th>148646</th>\n",
       "      <td>558000.0</td>\n",
       "      <td>4.375</td>\n",
       "      <td>7260.0</td>\n",
       "      <td>44.0</td>\n",
       "    </tr>\n",
       "  </tbody>\n",
       "</table>\n",
       "<p>148647 rows × 4 columns</p>\n",
       "</div>"
      ],
      "text/plain": [
       "        property_value  rate_of_interest  income  dtir1\n",
       "0             508000.0             3.625  2760.0   44.0\n",
       "1             428000.0             4.500  4980.0   35.0\n",
       "2             568000.0             4.990  8940.0   34.0\n",
       "3             418000.0             3.990  6780.0   39.0\n",
       "4             258000.0             5.250  3840.0   49.0\n",
       "...                ...               ...     ...    ...\n",
       "148642        608000.0             3.125  7860.0   48.0\n",
       "148643        788000.0             5.190  7140.0   15.0\n",
       "148644        728000.0             3.125  6900.0   49.0\n",
       "148645        278000.0             3.500  7140.0   29.0\n",
       "148646        558000.0             4.375  7260.0   44.0\n",
       "\n",
       "[148647 rows x 4 columns]"
      ]
     },
     "execution_count": 103,
     "metadata": {},
     "output_type": "execute_result"
    }
   ],
   "source": [
    "impute_column = pd.DataFrame(data ,columns = ['property_value','rate_of_interest','income','dtir1'])\n",
    "impute_column"
   ]
  },
  {
   "cell_type": "code",
   "execution_count": 104,
   "id": "50bdcbd0",
   "metadata": {},
   "outputs": [
    {
     "data": {
      "text/plain": [
       "array([[5.080e+05, 3.625e+00, 2.760e+03, 4.400e+01],\n",
       "       [4.280e+05, 4.500e+00, 4.980e+03, 3.500e+01],\n",
       "       [5.680e+05, 4.990e+00, 8.940e+03, 3.400e+01],\n",
       "       ...,\n",
       "       [7.280e+05, 3.125e+00, 6.900e+03, 4.900e+01],\n",
       "       [2.780e+05, 3.500e+00, 7.140e+03, 2.900e+01],\n",
       "       [5.580e+05, 4.375e+00, 7.260e+03, 4.400e+01]])"
      ]
     },
     "execution_count": 104,
     "metadata": {},
     "output_type": "execute_result"
    }
   ],
   "source": [
    "imputer = KNNImputer(n_neighbors=2)\n",
    "after_imputation = imputer.fit_transform(impute_column) \n",
    "after_imputation"
   ]
  },
  {
   "cell_type": "code",
   "execution_count": 105,
   "id": "1f3660bd",
   "metadata": {},
   "outputs": [
    {
     "data": {
      "text/html": [
       "<div>\n",
       "<style scoped>\n",
       "    .dataframe tbody tr th:only-of-type {\n",
       "        vertical-align: middle;\n",
       "    }\n",
       "\n",
       "    .dataframe tbody tr th {\n",
       "        vertical-align: top;\n",
       "    }\n",
       "\n",
       "    .dataframe thead th {\n",
       "        text-align: right;\n",
       "    }\n",
       "</style>\n",
       "<table border=\"1\" class=\"dataframe\">\n",
       "  <thead>\n",
       "    <tr style=\"text-align: right;\">\n",
       "      <th></th>\n",
       "      <th>property_value</th>\n",
       "      <th>rate_of_interest</th>\n",
       "      <th>income</th>\n",
       "      <th>dtir1</th>\n",
       "    </tr>\n",
       "  </thead>\n",
       "  <tbody>\n",
       "    <tr>\n",
       "      <th>0</th>\n",
       "      <td>508000.0</td>\n",
       "      <td>3.625</td>\n",
       "      <td>2760.0</td>\n",
       "      <td>44.0</td>\n",
       "    </tr>\n",
       "    <tr>\n",
       "      <th>1</th>\n",
       "      <td>428000.0</td>\n",
       "      <td>4.500</td>\n",
       "      <td>4980.0</td>\n",
       "      <td>35.0</td>\n",
       "    </tr>\n",
       "    <tr>\n",
       "      <th>2</th>\n",
       "      <td>568000.0</td>\n",
       "      <td>4.990</td>\n",
       "      <td>8940.0</td>\n",
       "      <td>34.0</td>\n",
       "    </tr>\n",
       "    <tr>\n",
       "      <th>3</th>\n",
       "      <td>418000.0</td>\n",
       "      <td>3.990</td>\n",
       "      <td>6780.0</td>\n",
       "      <td>39.0</td>\n",
       "    </tr>\n",
       "    <tr>\n",
       "      <th>4</th>\n",
       "      <td>258000.0</td>\n",
       "      <td>5.250</td>\n",
       "      <td>3840.0</td>\n",
       "      <td>49.0</td>\n",
       "    </tr>\n",
       "    <tr>\n",
       "      <th>...</th>\n",
       "      <td>...</td>\n",
       "      <td>...</td>\n",
       "      <td>...</td>\n",
       "      <td>...</td>\n",
       "    </tr>\n",
       "    <tr>\n",
       "      <th>148642</th>\n",
       "      <td>608000.0</td>\n",
       "      <td>3.125</td>\n",
       "      <td>7860.0</td>\n",
       "      <td>48.0</td>\n",
       "    </tr>\n",
       "    <tr>\n",
       "      <th>148643</th>\n",
       "      <td>788000.0</td>\n",
       "      <td>5.190</td>\n",
       "      <td>7140.0</td>\n",
       "      <td>15.0</td>\n",
       "    </tr>\n",
       "    <tr>\n",
       "      <th>148644</th>\n",
       "      <td>728000.0</td>\n",
       "      <td>3.125</td>\n",
       "      <td>6900.0</td>\n",
       "      <td>49.0</td>\n",
       "    </tr>\n",
       "    <tr>\n",
       "      <th>148645</th>\n",
       "      <td>278000.0</td>\n",
       "      <td>3.500</td>\n",
       "      <td>7140.0</td>\n",
       "      <td>29.0</td>\n",
       "    </tr>\n",
       "    <tr>\n",
       "      <th>148646</th>\n",
       "      <td>558000.0</td>\n",
       "      <td>4.375</td>\n",
       "      <td>7260.0</td>\n",
       "      <td>44.0</td>\n",
       "    </tr>\n",
       "  </tbody>\n",
       "</table>\n",
       "<p>148647 rows × 4 columns</p>\n",
       "</div>"
      ],
      "text/plain": [
       "        property_value  rate_of_interest  income  dtir1\n",
       "0             508000.0             3.625  2760.0   44.0\n",
       "1             428000.0             4.500  4980.0   35.0\n",
       "2             568000.0             4.990  8940.0   34.0\n",
       "3             418000.0             3.990  6780.0   39.0\n",
       "4             258000.0             5.250  3840.0   49.0\n",
       "...                ...               ...     ...    ...\n",
       "148642        608000.0             3.125  7860.0   48.0\n",
       "148643        788000.0             5.190  7140.0   15.0\n",
       "148644        728000.0             3.125  6900.0   49.0\n",
       "148645        278000.0             3.500  7140.0   29.0\n",
       "148646        558000.0             4.375  7260.0   44.0\n",
       "\n",
       "[148647 rows x 4 columns]"
      ]
     },
     "execution_count": 105,
     "metadata": {},
     "output_type": "execute_result"
    }
   ],
   "source": [
    "impute_column = pd.DataFrame(after_imputation ,columns = ['property_value','rate_of_interest','income','dtir1']) \n",
    "#filled all the missing values for the mentioned columns using KNN imputator\n",
    "impute_column \n"
   ]
  },
  {
   "cell_type": "code",
   "execution_count": 106,
   "id": "8ee88bd7",
   "metadata": {},
   "outputs": [
    {
     "data": {
      "text/plain": [
       "property_value      0\n",
       "rate_of_interest    0\n",
       "income              0\n",
       "dtir1               0\n",
       "dtype: int64"
      ]
     },
     "execution_count": 106,
     "metadata": {},
     "output_type": "execute_result"
    }
   ],
   "source": [
    "impute_column.isnull().sum() #checking the null values for the columns"
   ]
  },
  {
   "cell_type": "code",
   "execution_count": 107,
   "id": "7ded7133",
   "metadata": {},
   "outputs": [],
   "source": [
    "'''Assigning the values to the columns of our data set'''\n",
    "data1['property_value'] = impute_column['property_value']\n",
    "data1['rate_of_interest'] = impute_column['rate_of_interest']\n",
    "data1['income'] = impute_column['income']\n",
    "data1['dtir1'] = impute_column['dtir1']"
   ]
  },
  {
   "cell_type": "code",
   "execution_count": 108,
   "id": "9f4fe677",
   "metadata": {},
   "outputs": [
    {
     "data": {
      "text/plain": [
       "ID                            0\n",
       "Gender                        0\n",
       "approv_in_adv               908\n",
       "loan_purpose                134\n",
       "Credit_Worthiness             0\n",
       "business_or_commercial        0\n",
       "loan_amount                   0\n",
       "rate_of_interest              0\n",
       "term                         41\n",
       "Neg_ammortization           121\n",
       "lump_sum_payment              0\n",
       "property_value                0\n",
       "Secured_by                    0\n",
       "total_units                   0\n",
       "income                        0\n",
       "credit_type                   0\n",
       "Credit_Score                  0\n",
       "age                         200\n",
       "LTV                       15097\n",
       "Region                        0\n",
       "Security_Type                 0\n",
       "Status                        0\n",
       "dtir1                         0\n",
       "dtype: int64"
      ]
     },
     "execution_count": 108,
     "metadata": {},
     "output_type": "execute_result"
    }
   ],
   "source": [
    "data1.isnull().sum() #checking missing values for these columns from our data set"
   ]
  },
  {
   "cell_type": "markdown",
   "id": "67e3d533",
   "metadata": {},
   "source": [
    "This is part 4-b"
   ]
  },
  {
   "cell_type": "markdown",
   "id": "8b224361",
   "metadata": {},
   "source": [
    "***Bar Chart with imputation - Region Vs Property Value***  "
   ]
  },
  {
   "cell_type": "code",
   "execution_count": 98,
   "id": "478cc0e3",
   "metadata": {},
   "outputs": [
    {
     "data": {
      "image/png": "[encoded data removed]",
      "text/plain": [
       "<Figure size 864x432 with 1 Axes>"
      ]
     },
     "metadata": {
      "needs_background": "light"
     },
     "output_type": "display_data"
    }
   ],
   "source": [
    "fig = plt.subplots(figsize=(12,6))  #figure size\n",
    "plt.title(\"Property value to region\") #barchart title\n",
    "\n",
    "sns.barplot(x = 'Region',    #setting x and y axis parameters\n",
    "            y = 'property_value',\n",
    "            hue = 'Secured_by',\n",
    "            data = data1)\n",
    " \n",
    "# Show the plot\n",
    "plt.show()"
   ]
  },
  {
   "cell_type": "markdown",
   "id": "329f39cf",
   "metadata": {},
   "source": [
    "***Histogram of DTIR - Debt-to Income Ratio values***"
   ]
  },
  {
   "cell_type": "code",
   "execution_count": 109,
   "id": "8c030a06",
   "metadata": {},
   "outputs": [
    {
     "data": {
      "image/png": "[encoded data removed]",
      "text/plain": [
       "<Figure size 1008x432 with 1 Axes>"
      ]
     },
     "metadata": {
      "needs_background": "light"
     },
     "output_type": "display_data"
    }
   ],
   "source": [
    "txt_color1 = '#252525'\n",
    "txt_color2 = '#004C74'\n",
    "\n",
    "fig, ax = plt.subplots(1,figsize=(14,6))\n",
    "n, bins, patches = plt.hist(data1.dtir1)\n",
    "\n",
    "# x ticks\n",
    "xticks = [(bins[idx+1] + value)/2 for idx, value in enumerate(bins[:-1])]\n",
    "xticks_labels = [ \"{:.2f}\\nto\\n{:.2f}\".format(value, bins[idx+1]) for idx, value in enumerate(bins[:-1])]\n",
    "plt.xticks(xticks, labels = xticks_labels)\n",
    "\n",
    "\n",
    "# remove major and minor ticks from the x axis, but keep the labels\n",
    "ax.tick_params(axis='x', which='both',length=0)\n",
    "# Hide the right and top spines\n",
    "ax.spines['bottom'].set_visible(False)\n",
    "ax.spines['left'].set_visible(False)\n",
    "ax.spines['right'].set_visible(False)\n",
    "ax.spines['top'].set_visible(False)\n",
    "\n",
    "plt.title('Histogram of DTIR values\\n', loc = 'left', fontsize = 20, c=txt_color1)\n",
    "plt.xlabel('\\nDTIR Range', c=txt_color2, fontsize=14)\n",
    "plt.ylabel('Number of Customers', c=txt_color2, fontsize=14)\n",
    "\n",
    "plt.show()"
   ]
  },
  {
   "cell_type": "code",
   "execution_count": null,
   "id": "fb5866e6",
   "metadata": {},
   "outputs": [],
   "source": [
    "xPoints = np.array([2, 4, 6, 8, 10, 12, 14, 16, 18, 20])\n",
    "y1Points = np.array([12, 14, 16, 18, 10, 12, 14, 16, 18, 120])\n",
    "y2Points = np.array([12, 7, 6, 5, 4, 3, 2, 2, 1, 12])\n",
    "\n",
    "plt.subplot(1, 2, 1) # row 1, col 2 index 1\n",
    "plt.plot(xPoints, y1Points)\n",
    "plt.title(\"Before Imputation\")\n",
    "plt.xlabel('X-axis ')\n",
    "plt.ylabel('Y-axis ')\n",
    "\n",
    "plt.subplot(1, 2, 2) # index 2\n",
    "plt.plot(xPoints, y2Points)\n",
    "plt.title(\"After Imputation\")\n",
    "plt.xlabel('X-axis ')\n",
    "plt.ylabel('Y-axis ')\n",
    "\n",
    "plt.show()"
   ]
  },
  {
   "cell_type": "markdown",
   "id": "dede2553",
   "metadata": {},
   "source": [
    "# Conclusion:\n",
    "**Overall, it can be concluded that higher loan amount can be approved if a customer dtir below 43%, credit score more than 500, a collateral with good property value and higher income.**"
   ]
  },
  {
   "cell_type": "markdown",
   "id": "52bb3444",
   "metadata": {},
   "source": [
    "# Recommendation:\n",
    "\n",
    "1. The analysis can be more thorough and accurate if the dataset also involves the exact loan purpose.\n",
    "2. More information about the income and employment background of the customers.\n",
    "3. More information about the gender of the customers and clarification on joint accounts."
   ]
  },
  {
   "cell_type": "code",
   "execution_count": null,
   "id": "84e43fb2",
   "metadata": {},
   "outputs": [],
   "source": []
  }
 ],
 "metadata": {
  "kernelspec": {
   "display_name": "Python 3 (ipykernel)",
   "language": "python",
   "name": "python3"
  },
  "language_info": {
   "codemirror_mode": {
    "name": "ipython",
    "version": 3
   },
   "file_extension": ".py",
   "mimetype": "text/x-python",
   "name": "python",
   "nbconvert_exporter": "python",
   "pygments_lexer": "ipython3",
   "version": "3.9.7"
  }
 },
 "nbformat": 4,
 "nbformat_minor": 5
}
